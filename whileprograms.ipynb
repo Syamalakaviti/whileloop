{
 "cells": [
  {
   "cell_type": "code",
   "execution_count": 6,
   "metadata": {},
   "outputs": [
    {
     "name": "stdout",
     "output_type": "stream",
     "text": [
      "hello world\n",
      "hello world\n",
      "hello world\n",
      "hello world\n",
      "hello world\n",
      "hello world\n"
     ]
    }
   ],
   "source": [
    "c=0\n",
    "while c<=5:\n",
    "    print(\"hello world\")\n",
    "    c+=1"
   ]
  },
  {
   "cell_type": "code",
   "execution_count": 7,
   "metadata": {},
   "outputs": [
    {
     "name": "stdout",
     "output_type": "stream",
     "text": [
      "1\n",
      "2\n",
      "3\n",
      "4\n",
      "5\n",
      "6\n",
      "7\n",
      "8\n",
      "9\n",
      "10\n"
     ]
    }
   ],
   "source": [
    "c=1\n",
    "while c<=10:\n",
    "    print(c)\n",
    "    c+=1"
   ]
  },
  {
   "cell_type": "code",
   "execution_count": 13,
   "metadata": {},
   "outputs": [
    {
     "name": "stdout",
     "output_type": "stream",
     "text": [
      "1\n",
      "2\n",
      "3\n",
      "4\n",
      "5\n",
      "6\n",
      "7\n",
      "8\n"
     ]
    }
   ],
   "source": [
    "m=1\n",
    "n=8\n",
    "while m<=n:\n",
    "    print(m)\n",
    "    m+=1"
   ]
  },
  {
   "cell_type": "code",
   "execution_count": 12,
   "metadata": {},
   "outputs": [
    {
     "name": "stdout",
     "output_type": "stream",
     "text": [
      "5\n",
      "4\n",
      "3\n",
      "2\n",
      "1\n"
     ]
    }
   ],
   "source": [
    "m=5\n",
    "n=0\n",
    "if m<n:\n",
    "    m,n=n,m\n",
    "while m>n:\n",
    "    print(m)\n",
    "    m-=1"
   ]
  },
  {
   "cell_type": "code",
   "execution_count": 14,
   "metadata": {},
   "outputs": [
    {
     "name": "stdout",
     "output_type": "stream",
     "text": [
      "2\n",
      "4\n",
      "6\n",
      "8\n",
      "10\n"
     ]
    }
   ],
   "source": [
    "a=1\n",
    "b=10\n",
    "if a>b:\n",
    "    a,b=b,a\n",
    "while a<=b:\n",
    "    if a%2==0:\n",
    "        print(a)\n",
    "    a+=1"
   ]
  },
  {
   "cell_type": "code",
   "execution_count": 2,
   "metadata": {},
   "outputs": [
    {
     "name": "stdout",
     "output_type": "stream",
     "text": [
      "10\n",
      "8\n",
      "6\n",
      "4\n",
      "2\n",
      "0\n"
     ]
    }
   ],
   "source": [
    "# even numbers reverse  6\n",
    "a=10\n",
    "while a>=0:\n",
    "    if a%2==0:\n",
    "        print(a)\n",
    "    a-=1"
   ]
  },
  {
   "cell_type": "code",
   "execution_count": 3,
   "metadata": {},
   "outputs": [
    {
     "name": "stdout",
     "output_type": "stream",
     "text": [
      "1\n",
      "3\n",
      "5\n",
      "7\n"
     ]
    }
   ],
   "source": [
    "#odd numbers series   7\n",
    "a=1\n",
    "b=7\n",
    "if a>b:\n",
    "    a,b=b,a\n",
    "while a<=b:\n",
    "    if a%2!=0:\n",
    "        print(a)\n",
    "    a+=1"
   ]
  },
  {
   "cell_type": "code",
   "execution_count": 4,
   "metadata": {},
   "outputs": [
    {
     "name": "stdout",
     "output_type": "stream",
     "text": [
      "9\n",
      "7\n",
      "5\n",
      "3\n",
      "1\n"
     ]
    }
   ],
   "source": [
    "#odd numbers reverse   8\n",
    "a=10\n",
    "while a>=0:\n",
    "    if a%2!=0:\n",
    "        print(a)\n",
    "    a-=1"
   ]
  },
  {
   "cell_type": "code",
   "execution_count": 1,
   "metadata": {},
   "outputs": [
    {
     "name": "stdout",
     "output_type": "stream",
     "text": [
      "5* 1 = 5\n",
      "5* 2 = 10\n",
      "5* 3 = 15\n",
      "5* 4 = 20\n",
      "5* 5 = 25\n"
     ]
    }
   ],
   "source": [
    "#program for 5 table    9\n",
    "a=1\n",
    "res=1\n",
    "while a<=5:\n",
    "    res=5*a\n",
    "    print(\"5*\",a,\"=\",res)\n",
    "    a+=1"
   ]
  },
  {
   "cell_type": "code",
   "execution_count": 6,
   "metadata": {},
   "outputs": [
    {
     "name": "stdout",
     "output_type": "stream",
     "text": [
      "5* 5 = 25\n",
      "5* 4 = 20\n",
      "5* 3 = 15\n",
      "5* 2 = 10\n",
      "5* 1 = 5\n"
     ]
    }
   ],
   "source": [
    "# table in reverse  10\n",
    "a=5\n",
    "res=1\n",
    "while a>=1:\n",
    "    res=5*a\n",
    "    print(\"5*\",a,\"=\",res)\n",
    "    a-=1"
   ]
  },
  {
   "cell_type": "code",
   "execution_count": 10,
   "metadata": {},
   "outputs": [
    {
     "name": "stdout",
     "output_type": "stream",
     "text": [
      "27\n",
      "30\n",
      "33\n",
      "36\n",
      "39\n",
      "42\n",
      "45\n",
      "48\n",
      "51\n",
      "54\n",
      "57\n",
      "60\n",
      "63\n",
      "66\n"
     ]
    }
   ],
   "source": [
    "#numbers divisible by 3 from 25 to 66   11\n",
    "m=25\n",
    "n=66\n",
    "while m<=n:\n",
    "    if m%3==0:\n",
    "        print(m)\n",
    "    m+=1"
   ]
  },
  {
   "cell_type": "code",
   "execution_count": 12,
   "metadata": {},
   "outputs": [
    {
     "name": "stdout",
     "output_type": "stream",
     "text": [
      "15\n",
      "30\n",
      "45\n",
      "60\n",
      "75\n"
     ]
    }
   ],
   "source": [
    "#numbers divisible by 3 and 5  12\n",
    "m=15\n",
    "n=76\n",
    "while m<=n:\n",
    "    if m%3==0 and m%5==0:\n",
    "        print(m)\n",
    "    m+=1"
   ]
  },
  {
   "cell_type": "code",
   "execution_count": 13,
   "metadata": {},
   "outputs": [
    {
     "name": "stdout",
     "output_type": "stream",
     "text": [
      "I love you\n",
      "I hate you\n",
      "I love you\n",
      "I love you\n",
      "I hate you\n",
      "I love you\n",
      "I love you\n",
      "I love you\n",
      "I hate you\n",
      "I love you\n",
      "I love you\n",
      "I hate you\n",
      "I love you\n",
      "I love you\n"
     ]
    }
   ],
   "source": [
    "#numbers divisible by 3 and 5   13\n",
    "m=1\n",
    "n=30\n",
    "while m<=n:\n",
    "    if m%3==0:\n",
    "        print(\"I love you\")\n",
    "    elif m%5==0:\n",
    "        print(\"I hate you\")\n",
    "    elif m%5==0 and m%3==0:\n",
    "        print(\"I like you\")\n",
    "    m+=1"
   ]
  },
  {
   "cell_type": "code",
   "execution_count": 14,
   "metadata": {},
   "outputs": [
    {
     "name": "stdout",
     "output_type": "stream",
     "text": [
      "15\n"
     ]
    }
   ],
   "source": [
    "#sum of natural numbers   14\n",
    "m=1\n",
    "n=5\n",
    "s=0\n",
    "while m<=n:\n",
    "    s+=m\n",
    "    m+=1\n",
    "print(s)"
   ]
  },
  {
   "cell_type": "code",
   "execution_count": 15,
   "metadata": {},
   "outputs": [
    {
     "name": "stdout",
     "output_type": "stream",
     "text": [
      "110\n"
     ]
    }
   ],
   "source": [
    "#sum of even numbers    15 \n",
    "m=1\n",
    "n=20\n",
    "s=0\n",
    "while m<=n:\n",
    "    if m%2==0:\n",
    "        s+=m\n",
    "    m+=1\n",
    "print(s)"
   ]
  },
  {
   "cell_type": "code",
   "execution_count": 17,
   "metadata": {},
   "outputs": [
    {
     "name": "stdout",
     "output_type": "stream",
     "text": [
      "720\n"
     ]
    }
   ],
   "source": [
    "m=1\n",
    "n=6\n",
    "p=1\n",
    "while m<=n:\n",
    "    p*=m\n",
    "    m+=1\n",
    "print(p)"
   ]
  },
  {
   "cell_type": "code",
   "execution_count": 18,
   "metadata": {},
   "outputs": [
    {
     "name": "stdout",
     "output_type": "stream",
     "text": [
      "5\n"
     ]
    }
   ],
   "source": [
    "#cout of odd values   16\n",
    "m=1\n",
    "n=9\n",
    "c=0\n",
    "while m<=n:\n",
    "    if m%2!=0:\n",
    "        c+=1\n",
    "    m+=1\n",
    "print(c)"
   ]
  },
  {
   "cell_type": "code",
   "execution_count": 25,
   "metadata": {},
   "outputs": [
    {
     "name": "stdout",
     "output_type": "stream",
     "text": [
      "1\n",
      "3\n",
      "5\n",
      "15\n"
     ]
    }
   ],
   "source": [
    "#factors of given numbers  17\n",
    "a=1\n",
    "b=15\n",
    "while a<=b:\n",
    "    if b%a==0:\n",
    "        print(a)\n",
    "    a+=1"
   ]
  },
  {
   "cell_type": "code",
   "execution_count": 26,
   "metadata": {},
   "outputs": [
    {
     "name": "stdout",
     "output_type": "stream",
     "text": [
      "18\n"
     ]
    }
   ],
   "source": [
    "#sum of factors of given number   18\n",
    "a=1\n",
    "b=10\n",
    "s=0\n",
    "while a<=b:\n",
    "    if b%a==0:\n",
    "        s+=a\n",
    "    a+=1\n",
    "print(s) "
   ]
  },
  {
   "cell_type": "code",
   "execution_count": 33,
   "metadata": {},
   "outputs": [
    {
     "name": "stdout",
     "output_type": "stream",
     "text": [
      "1\n",
      "2\n",
      "3\n",
      "5\n",
      "8\n",
      "13\n",
      "21\n"
     ]
    }
   ],
   "source": [
    "#fibanocii numers   19\n",
    "a=0\n",
    "b=1\n",
    "n=10\n",
    "c=0\n",
    "while a<=n:\n",
    "    c=a+b\n",
    "    a,b=b,c\n",
    "    print(c)"
   ]
  },
  {
   "cell_type": "code",
   "execution_count": 30,
   "metadata": {},
   "outputs": [
    {
     "name": "stdout",
     "output_type": "stream",
     "text": [
      "120\n"
     ]
    }
   ],
   "source": [
    "#factorial number   20\n",
    "m=1\n",
    "n=5\n",
    "p=1\n",
    "while m<=n:\n",
    "    p*=m\n",
    "    m+=1\n",
    "print(p)"
   ]
  },
  {
   "cell_type": "code",
   "execution_count": 32,
   "metadata": {},
   "outputs": [
    {
     "name": "stdout",
     "output_type": "stream",
     "text": [
      "prime\n"
     ]
    }
   ],
   "source": [
    "#prime number   21\n",
    "n=5\n",
    "i=1\n",
    "c=0\n",
    "while i<=n:\n",
    "    if n%i==0:\n",
    "        c+=1\n",
    "    i+=1\n",
    "if c==2:\n",
    "    print(\"prime\")\n",
    "else:\n",
    "    print(\"not a prime\")"
   ]
  },
  {
   "cell_type": "code",
   "execution_count": 39,
   "metadata": {},
   "outputs": [
    {
     "name": "stdout",
     "output_type": "stream",
     "text": [
      "not a prime\n"
     ]
    }
   ],
   "source": [
    "#series of prime numbers    22\n",
    "a=1\n",
    "b=15\n",
    "i=1\n",
    "c=0\n",
    "while a<=b:\n",
    "    if a%i==0:\n",
    "        c+=1\n",
    "    i+=1\n",
    "\n",
    "if c==2:\n",
    "    print(\"prime\")\n",
    "else:\n",
    "    print(\"not a prime\")"
   ]
  },
  {
   "cell_type": "code",
   "execution_count": 43,
   "metadata": {},
   "outputs": [
    {
     "name": "stdout",
     "output_type": "stream",
     "text": [
      "A\n",
      "B\n",
      "C\n",
      "D\n",
      "E\n",
      "F\n",
      "G\n",
      "H\n",
      "I\n",
      "J\n",
      "K\n",
      "L\n",
      "M\n",
      "N\n",
      "O\n",
      "P\n",
      "Q\n",
      "R\n",
      "S\n",
      "T\n",
      "U\n",
      "V\n",
      "W\n",
      "X\n",
      "Y\n",
      "Z\n"
     ]
    }
   ],
   "source": [
    "#to proint A to Z   26\n",
    "a=65\n",
    "b=91\n",
    "while a<b:\n",
    "    print(chr(a))\n",
    "    a+=1"
   ]
  },
  {
   "cell_type": "code",
   "execution_count": 44,
   "metadata": {},
   "outputs": [
    {
     "name": "stdout",
     "output_type": "stream",
     "text": [
      "a\n",
      "b\n",
      "c\n",
      "d\n",
      "e\n",
      "f\n",
      "g\n",
      "h\n",
      "i\n",
      "j\n",
      "k\n",
      "l\n",
      "m\n",
      "n\n",
      "o\n",
      "p\n",
      "q\n",
      "r\n",
      "s\n",
      "t\n",
      "u\n",
      "v\n",
      "w\n",
      "x\n",
      "y\n",
      "z\n"
     ]
    }
   ],
   "source": [
    "#program to print lowe case   27\n",
    "a=97\n",
    "b=122\n",
    "while a<=b:\n",
    "    print(chr(a))\n",
    "    a+=1"
   ]
  },
  {
   "cell_type": "code",
   "execution_count": 45,
   "metadata": {},
   "outputs": [
    {
     "name": "stdout",
     "output_type": "stream",
     "text": [
      "0\n",
      "1\n",
      "2\n",
      "3\n",
      "4\n",
      "5\n",
      "6\n",
      "7\n",
      "8\n",
      "9\n"
     ]
    }
   ],
   "source": [
    "# ascii numbers  28\n",
    "a=48\n",
    "b=57\n",
    "while a<=b:\n",
    "    print(chr(a))\n",
    "    a+=1"
   ]
  },
  {
   "cell_type": "code",
   "execution_count": 46,
   "metadata": {},
   "outputs": [
    {
     "name": "stdout",
     "output_type": "stream",
     "text": [
      "B\n",
      "D\n",
      "F\n",
      "H\n",
      "J\n",
      "L\n",
      "N\n",
      "P\n",
      "R\n",
      "T\n",
      "V\n",
      "X\n",
      "Z\n"
     ]
    }
   ],
   "source": [
    "#even uppercase  29\n",
    "a=65\n",
    "b=92\n",
    "while a<b:\n",
    "    if a%2==0:\n",
    "        print(chr(a))\n",
    "    a+=1"
   ]
  },
  {
   "cell_type": "code",
   "execution_count": 47,
   "metadata": {},
   "outputs": [
    {
     "name": "stdout",
     "output_type": "stream",
     "text": [
      "a\n",
      "c\n",
      "e\n",
      "g\n",
      "i\n",
      "k\n",
      "m\n",
      "o\n",
      "q\n",
      "s\n",
      "u\n",
      "w\n",
      "y\n"
     ]
    }
   ],
   "source": [
    "#odd lower case   30\n",
    "a=97\n",
    "b=122\n",
    "while a<=b:\n",
    "    if a%2!=0:\n",
    "        print(chr(a))\n",
    "    a+=1"
   ]
  },
  {
   "cell_type": "code",
   "execution_count": 48,
   "metadata": {},
   "outputs": [
    {
     "name": "stdout",
     "output_type": "stream",
     "text": [
      "A\n",
      "C\n",
      "E\n",
      "G\n",
      "I\n",
      "K\n",
      "M\n",
      "O\n",
      "Q\n",
      "S\n",
      "U\n",
      "W\n",
      "Y\n"
     ]
    }
   ],
   "source": [
    "#odd uppercase   31\n",
    "a=65\n",
    "b=91\n",
    "while a<b:\n",
    "    if a%2!=0:\n",
    "        print(chr(a))\n",
    "    a+=1"
   ]
  },
  {
   "cell_type": "code",
   "execution_count": 49,
   "metadata": {},
   "outputs": [
    {
     "name": "stdout",
     "output_type": "stream",
     "text": [
      "b\n",
      "d\n",
      "f\n",
      "h\n",
      "j\n",
      "l\n",
      "n\n",
      "p\n",
      "r\n",
      "t\n",
      "v\n",
      "x\n"
     ]
    }
   ],
   "source": [
    "#even lower case    32\n",
    "a=97\n",
    "b=122\n",
    "while a<b:\n",
    "    if a%2==0:\n",
    "        print(chr(a))\n",
    "    a+=1"
   ]
  },
  {
   "cell_type": "code",
   "execution_count": 50,
   "metadata": {},
   "outputs": [
    {
     "name": "stdout",
     "output_type": "stream",
     "text": [
      "4\n"
     ]
    }
   ],
   "source": [
    "#count vowels   33\n",
    "a=69\n",
    "b=88\n",
    "c=0\n",
    "while a<=b:\n",
    "    if chr(a) in \"aeiouAEIOU\":\n",
    "        c+=1\n",
    "    a+=1\n",
    "print(c)\n"
   ]
  },
  {
   "cell_type": "code",
   "execution_count": 51,
   "metadata": {},
   "outputs": [
    {
     "name": "stdout",
     "output_type": "stream",
     "text": [
      "5\n"
     ]
    }
   ],
   "source": [
    "#countnumber of vowels    34\n",
    "a=122\n",
    "b=94\n",
    "c=0\n",
    "while a>b:\n",
    "    if chr(a) in \"aeiouAEIOU\":\n",
    "        c+=1\n",
    "    a-=1\n",
    "print(c)"
   ]
  },
  {
   "cell_type": "code",
   "execution_count": 2,
   "metadata": {},
   "outputs": [
    {
     "name": "stdout",
     "output_type": "stream",
     "text": [
      "3\n",
      "5\n",
      "6\n",
      "9\n",
      "10\n",
      "12\n",
      "15\n",
      "18\n",
      "20\n",
      "21\n",
      "24\n",
      "25\n",
      "27\n",
      "30\n"
     ]
    }
   ],
   "source": [
    "#print multiples of 3 from m to n    35\n",
    "m=1\n",
    "n=30\n",
    "while m<=n:\n",
    "    if m%3==0 or m%5==0:\n",
    "        print(m)\n",
    "    m+=1\n",
    "    "
   ]
  },
  {
   "cell_type": "code",
   "execution_count": 4,
   "metadata": {},
   "outputs": [
    {
     "name": "stdout",
     "output_type": "stream",
     "text": [
      "12\n",
      "3\n"
     ]
    }
   ],
   "source": [
    "#sum of digits until we get single digit     36\n",
    "n=156\n",
    "s=0\n",
    "while n:\n",
    "    ld=n%10\n",
    "    s+=ld\n",
    "    n=n//10\n",
    "print(s)\n",
    "c=0\n",
    "while s:\n",
    "    l=s%10\n",
    "    c+=l\n",
    "    s=s//10\n",
    "print(c)\n"
   ]
  },
  {
   "cell_type": "code",
   "execution_count": 10,
   "metadata": {},
   "outputs": [
    {
     "name": "stdout",
     "output_type": "stream",
     "text": [
      "2\n",
      "12\n",
      "20\n",
      "21\n",
      "22\n",
      "23\n",
      "24\n",
      "25\n",
      "26\n",
      "27\n",
      "28\n",
      "29\n",
      "32\n",
      "13\n"
     ]
    }
   ],
   "source": [
    "#count number of 2's in given range    37\n",
    "n=35\n",
    "m=0\n",
    "c=0\n",
    "while m<=n:\n",
    "    if '2' in str(m):\n",
    "        print(m)\n",
    "        c+=1\n",
    "    m+=1\n",
    "print(c)"
   ]
  },
  {
   "cell_type": "code",
   "execution_count": null,
   "metadata": {},
   "outputs": [],
   "source": [
    "#program to find maximum product of three numbers  38\n"
   ]
  },
  {
   "cell_type": "code",
   "execution_count": 11,
   "metadata": {},
   "outputs": [
    {
     "name": "stdout",
     "output_type": "stream",
     "text": [
      "h\n",
      "e\n",
      "l\n",
      "l\n",
      "o\n"
     ]
    }
   ],
   "source": [
    "#program to print items present in the string    39\n",
    "s=\"hello\"\n",
    "i=0\n",
    "while i<len(s):\n",
    "    print(s[i])\n",
    "    i+=1"
   ]
  },
  {
   "cell_type": "code",
   "execution_count": 12,
   "metadata": {},
   "outputs": [
    {
     "name": "stdout",
     "output_type": "stream",
     "text": [
      "H\n",
      "O\n",
      "W\n",
      "O\n",
      "D\n"
     ]
    }
   ],
   "source": [
    "#program to print uppercase character in given string    40\n",
    "s=\"HellOWOrlD\"\n",
    "i=0\n",
    "while i<len(s):\n",
    "    if 'A'<=s[i]<='Z':\n",
    "        print(s[i])\n",
    "    i+=1"
   ]
  },
  {
   "cell_type": "code",
   "execution_count": 13,
   "metadata": {},
   "outputs": [
    {
     "name": "stdout",
     "output_type": "stream",
     "text": [
      "e\n",
      "l\n",
      "l\n",
      "r\n",
      "l\n"
     ]
    }
   ],
   "source": [
    "#program to print lowercase character     41\n",
    "s=\"HellOWOrlD\"\n",
    "i=0\n",
    "while i<len(s):\n",
    "    if 'a'<=s[i]<='z':\n",
    "        print(s[i])\n",
    "    i+=1"
   ]
  },
  {
   "cell_type": "code",
   "execution_count": 14,
   "metadata": {},
   "outputs": [
    {
     "name": "stdout",
     "output_type": "stream",
     "text": [
      "4\n",
      "8\n",
      "5\n",
      "9\n",
      "4\n"
     ]
    }
   ],
   "source": [
    "#program to print ascii number in given string   42\n",
    "s=\"fdvdf48594fjdf\"\n",
    "i=0\n",
    "while i<len(s):\n",
    "    if '0'<=s[i]<='9':\n",
    "        print(s[i])\n",
    "    i+=1"
   ]
  },
  {
   "cell_type": "code",
   "execution_count": 15,
   "metadata": {},
   "outputs": [
    {
     "name": "stdout",
     "output_type": "stream",
     "text": [
      "#\n",
      "$\n",
      "%\n"
     ]
    }
   ],
   "source": [
    "#program to print special characters in given string    43\n",
    "s=\"deu#$%\"\n",
    "i=0\n",
    "while i<len(s):\n",
    "    if not ('A'<=s[i]<='Z' or 'a'<=s[i]<='z' or '0'<=s[i]<='9'):\n",
    "        print(s[i])\n",
    "    i+=1"
   ]
  },
  {
   "cell_type": "code",
   "execution_count": 16,
   "metadata": {},
   "outputs": [
    {
     "name": "stdout",
     "output_type": "stream",
     "text": [
      "e\n",
      "o\n"
     ]
    }
   ],
   "source": [
    "#program to print vowels in given string   44\n",
    "s=\"hello\"\n",
    "i=0\n",
    "while i<len(s):\n",
    "    if s[i] in \"aeiouAEIOU\":\n",
    "        print(s[i])\n",
    "    i+=1"
   ]
  },
  {
   "cell_type": "code",
   "execution_count": 17,
   "metadata": {},
   "outputs": [
    {
     "name": "stdout",
     "output_type": "stream",
     "text": [
      "h\n",
      "l\n",
      "l\n"
     ]
    }
   ],
   "source": [
    "# program to  print consonents in given string    45\n",
    "s=\"hello\"\n",
    "i=0\n",
    "while i<len(s):\n",
    "    if s[i] not in \"aeiouAEIOU\":\n",
    "        print(s[i])\n",
    "    i+=1\n"
   ]
  },
  {
   "cell_type": "code",
   "execution_count": 19,
   "metadata": {},
   "outputs": [
    {
     "name": "stdout",
     "output_type": "stream",
     "text": [
      "o\n",
      "l\n",
      "l\n",
      "e\n",
      "h\n"
     ]
    }
   ],
   "source": [
    "#program to reverse the given dtring    46\n",
    "s=\"hello\"\n",
    "i=len(s)-1\n",
    "while i>=0:\n",
    "    print(s[i])\n",
    "    i-=1"
   ]
  },
  {
   "cell_type": "code",
   "execution_count": 20,
   "metadata": {},
   "outputs": [
    {
     "name": "stdout",
     "output_type": "stream",
     "text": [
      "h\n",
      "l\n",
      "o\n",
      "o\n",
      "l\n"
     ]
    }
   ],
   "source": [
    "s=\"helloworld\"\n",
    "i=0\n",
    "while i<len(s):\n",
    "    if i%2==0:\n",
    "        print(s[i])\n",
    "    i+=1"
   ]
  },
  {
   "cell_type": "code",
   "execution_count": 21,
   "metadata": {},
   "outputs": [
    {
     "name": "stdout",
     "output_type": "stream",
     "text": [
      "e\n",
      "l\n",
      "w\n",
      "r\n",
      "d\n"
     ]
    }
   ],
   "source": [
    "#program to print odd position character in given strings   48\n",
    "s=\"helloworld\"\n",
    "i=0\n",
    "while i<len(s):\n",
    "    if i%2!=0:\n",
    "        print(s[i])\n",
    "    i+=1"
   ]
  },
  {
   "cell_type": "code",
   "execution_count": 22,
   "metadata": {},
   "outputs": [
    {
     "name": "stdout",
     "output_type": "stream",
     "text": [
      "5\n"
     ]
    }
   ],
   "source": [
    "s=\"hello\"\n",
    "i=0\n",
    "c=0\n",
    "while i<len(s):\n",
    "    c+=1\n",
    "    i+=1\n",
    "print(c)"
   ]
  },
  {
   "cell_type": "code",
   "execution_count": 5,
   "metadata": {},
   "outputs": [
    {
     "name": "stdout",
     "output_type": "stream",
     "text": [
      "5\n"
     ]
    }
   ],
   "source": [
    "#program to find length of given string without using length function   50\n",
    "s=\"hello\"\n",
    "c=0\n",
    "while s:\n",
    "    c+=1\n",
    "    s=s[0:-1:1]\n",
    "print(c)\n"
   ]
  },
  {
   "cell_type": "code",
   "execution_count": 32,
   "metadata": {},
   "outputs": [
    {
     "name": "stdout",
     "output_type": "stream",
     "text": [
      "8\n"
     ]
    }
   ],
   "source": [
    "#program to count alphabets in given string    51\n",
    "s=\"hello3473uhd\"\n",
    "i=0\n",
    "c=0\n",
    "while i<len(s):\n",
    "    if 'A'<=s[i]<='Z' or 'a'<=s[i]<='z':\n",
    "        c+=1\n",
    "    i+=1\n",
    "print(c)"
   ]
  },
  {
   "cell_type": "code",
   "execution_count": 33,
   "metadata": {},
   "outputs": [
    {
     "name": "stdout",
     "output_type": "stream",
     "text": [
      "4\n"
     ]
    }
   ],
   "source": [
    "#count uppercase characters     52\n",
    "s=\"GoodMorNinG\"\n",
    "i=0\n",
    "c=0\n",
    "while i<len(s):\n",
    "    if 'A'<=s[i]<='Z':\n",
    "        c+=1\n",
    "    i+=1\n",
    "print(c)"
   ]
  },
  {
   "cell_type": "code",
   "execution_count": 34,
   "metadata": {},
   "outputs": [
    {
     "name": "stdout",
     "output_type": "stream",
     "text": [
      "8\n"
     ]
    }
   ],
   "source": [
    "#program to count number of lowrcase character   53\n",
    "s=\"HelloWorld\"\n",
    "i=0\n",
    "c=0\n",
    "while i<len(s):\n",
    "    if 'a'<=s[i]<='z':\n",
    "        c+=1\n",
    "    i+=1\n",
    "print(c)\n"
   ]
  },
  {
   "cell_type": "code",
   "execution_count": 35,
   "metadata": {},
   "outputs": [
    {
     "name": "stdout",
     "output_type": "stream",
     "text": [
      "4\n"
     ]
    }
   ],
   "source": [
    "#program to count special charecters    54\n",
    "s=\"hello@$%#\"\n",
    "i=0\n",
    "c=0\n",
    "while i<len(s):\n",
    "    if not('A'<=s[i]<='Z' or 'a'<=s[i]<='z' or '0'<=s[i]<='9'):\n",
    "        c+=1\n",
    "    i+=1\n",
    "print(c)"
   ]
  },
  {
   "cell_type": "code",
   "execution_count": 36,
   "metadata": {},
   "outputs": [
    {
     "name": "stdout",
     "output_type": "stream",
     "text": [
      "10\n"
     ]
    }
   ],
   "source": [
    "#program to count lowercase and upper case    55\n",
    "s=\"HelloWOrlD\"\n",
    "c=0\n",
    "i=0\n",
    "while i<len(s):\n",
    "    if 'A'<=s[i]<='Z' or 'a'<=s[i]<='z':\n",
    "        c+=1\n",
    "    i+=1\n",
    "print(c)"
   ]
  },
  {
   "cell_type": "code",
   "execution_count": 37,
   "metadata": {},
   "outputs": [
    {
     "name": "stdout",
     "output_type": "stream",
     "text": [
      "4\n"
     ]
    }
   ],
   "source": [
    "#program to count number of ascii numbers    56\n",
    "s=\"hello1234world\"\n",
    "i=0\n",
    "c=0\n",
    "while i<len(s):\n",
    "    if '0'<=s[i]<='9':\n",
    "        c+=1\n",
    "    i+=1\n",
    "print(c)"
   ]
  },
  {
   "cell_type": "code",
   "execution_count": 38,
   "metadata": {},
   "outputs": [
    {
     "name": "stdout",
     "output_type": "stream",
     "text": [
      "1\n"
     ]
    }
   ],
   "source": [
    "#program to count spaces in given string    57\n",
    "s=\"hello world\"\n",
    "c=0\n",
    "i=0\n",
    "while i<len(s):\n",
    "    if s[i]==' ':\n",
    "        c+=1\n",
    "    i+=1\n",
    "print(c)"
   ]
  },
  {
   "cell_type": "code",
   "execution_count": 39,
   "metadata": {},
   "outputs": [
    {
     "name": "stdout",
     "output_type": "stream",
     "text": [
      "10\n"
     ]
    }
   ],
   "source": [
    "#program to vowels and consonents in given string    58\n",
    "s=\"Hello world@123\"\n",
    "c=0\n",
    "i=0\n",
    "while i<len(s):\n",
    "    if 'A'<=s[i]<='Z' or 'a'<=s[i]<='z':\n",
    "        if s[i] in \"aeiouAEIOU\" or s[i] not in \"aeiouAEIOU\":\n",
    "            c+=1\n",
    "    i+=1\n",
    "print(c)"
   ]
  },
  {
   "cell_type": "code",
   "execution_count": 9,
   "metadata": {},
   "outputs": [
    {
     "name": "stdout",
     "output_type": "stream",
     "text": [
      "2\n"
     ]
    }
   ],
   "source": [
    "#program to count number of new lines in given string   59\n",
    "s=\"hello\\nworl\\nd\"\n",
    "i=0\n",
    "c=0\n",
    "while i<len(s):\n",
    "    if s[i]=='\\n':\n",
    "        c+=1\n",
    "    i+=1\n",
    "print(c)"
   ]
  },
  {
   "cell_type": "code",
   "execution_count": null,
   "metadata": {},
   "outputs": [],
   "source": [
    "#program to count number of lines in given string     60\n",
    "s=\"bdccdjcdjcdjcdjjjjjjjjjjjjjjjjjjjjjxklkldacdif \""
   ]
  },
  {
   "cell_type": "code",
   "execution_count": null,
   "metadata": {},
   "outputs": [],
   "source": []
  },
  {
   "cell_type": "code",
   "execution_count": 41,
   "metadata": {},
   "outputs": [
    {
     "name": "stdout",
     "output_type": "stream",
     "text": [
      "11\n"
     ]
    }
   ],
   "source": [
    "#program to count number of alphabets ,numbers and special characters    62\n",
    "s=\"hello @123$\"\n",
    "i=0\n",
    "c=0\n",
    "while i<len(s):\n",
    "    c+=1\n",
    "    i+=1\n",
    "print(c)"
   ]
  },
  {
   "cell_type": "code",
   "execution_count": null,
   "metadata": {},
   "outputs": [],
   "source": [
    "#program to count number of words in given doc string      63"
   ]
  },
  {
   "cell_type": "code",
   "execution_count": 42,
   "metadata": {},
   "outputs": [
    {
     "name": "stdout",
     "output_type": "stream",
     "text": [
      "6\n"
     ]
    }
   ],
   "source": [
    "#program to sum of digits in given string     64\n",
    "s=\"hello@123\"\n",
    "i=0\n",
    "sum=0\n",
    "while i<len(s):\n",
    "    if '0'<=s[i]<='9':\n",
    "        sum+=int(s[i])\n",
    "    i+=1\n",
    "print(sum)"
   ]
  },
  {
   "cell_type": "code",
   "execution_count": 46,
   "metadata": {},
   "outputs": [
    {
     "name": "stdout",
     "output_type": "stream",
     "text": [
      "h\n"
     ]
    }
   ],
   "source": [
    "#program to find occurance of character     65\n",
    "s=\"123hello\"\n",
    "i=0\n",
    "c=0\n",
    "while i<len(s):\n",
    "    if 'A'<=s[i]<='Z' or 'a'<=s[i]<='z':\n",
    "        c+=1\n",
    "        if c==1:\n",
    "            print(s[i])\n",
    "    i+=1\n",
    "\n"
   ]
  },
  {
   "cell_type": "code",
   "execution_count": 48,
   "metadata": {},
   "outputs": [
    {
     "name": "stdout",
     "output_type": "stream",
     "text": [
      "o\n"
     ]
    }
   ],
   "source": [
    "#program to find last occurance of given string    66\n",
    "s=\"123hello\"\n",
    "i=len(s)-1\n",
    "c=0\n",
    "while i>=0:\n",
    "    if 'A'<=s[i]<='Z' or 'a'<=s[i]<='z':\n",
    "        c+=1\n",
    "        if c==1:\n",
    "            print(s[i])\n",
    "    i-=1\n"
   ]
  },
  {
   "cell_type": "code",
   "execution_count": 3,
   "metadata": {},
   "outputs": [
    {
     "name": "stdout",
     "output_type": "stream",
     "text": [
      "ello\n"
     ]
    }
   ],
   "source": [
    "#program to remove first occurance of character  given string   67\n",
    "s=\"123hello\"\n",
    "i=0\n",
    "g=\"\"\n",
    "c=0\n",
    "while i<len(s):\n",
    "    if 'A'<=s[i]<='Z' or 'a'<=s[i]<='z':\n",
    "        c+=1\n",
    "        if c==1:\n",
    "            g+=''\n",
    "        else:\n",
    "            g+=s[i]\n",
    "        \n",
    "    i+=1\n",
    "print(g)\n"
   ]
  },
  {
   "cell_type": "code",
   "execution_count": 8,
   "metadata": {},
   "outputs": [
    {
     "name": "stdout",
     "output_type": "stream",
     "text": [
      "hell123\n"
     ]
    }
   ],
   "source": [
    "#program to remove last character occurance in given string    68\n",
    "s=\"hello123\"\n",
    "i=len(s)-1\n",
    "c=0\n",
    "g=\"\"\n",
    "while i>=0:\n",
    "    if 'A'<=s[i]<='Z' or 'a'<=s[i]<='z':\n",
    "        c+=1\n",
    "        if c==1:\n",
    "            g+=''\n",
    "        else:\n",
    "            g=s[i]+g\n",
    "    else:\n",
    "        g=s[i]+g\n",
    "    i-=1\n",
    "print(g)"
   ]
  },
  {
   "cell_type": "code",
   "execution_count": 8,
   "metadata": {},
   "outputs": [
    {
     "name": "stdout",
     "output_type": "stream",
     "text": [
      "Helowrd\n",
      "H 1\n",
      "e 1\n",
      "l 2\n",
      "o 2\n",
      "w 1\n",
      "r 0\n",
      "d 0\n"
     ]
    }
   ],
   "source": [
    "#program to count specific character occurance    69\n",
    "s=\"Helloworld\"\n",
    "res=\"\"\n",
    "i=0\n",
    "while i<len(s):\n",
    "    if s[i] not in res:\n",
    "        res+=s[i]\n",
    "    i+=1\n",
    "print(res)\n",
    "j=0\n",
    "while j<len(res):\n",
    "    start=0\n",
    "    c=0\n",
    "    while start<len(res):\n",
    "        if res[j]==s[start]:\n",
    "            c+=1\n",
    "        start+=1\n",
    "    print(res[j],c)\n",
    "    j+=1"
   ]
  },
  {
   "cell_type": "code",
   "execution_count": 9,
   "metadata": {},
   "outputs": [
    {
     "name": "stdout",
     "output_type": "stream",
     "text": [
      "l 3\n"
     ]
    }
   ],
   "source": [
    "#program to count the maximum occurance of given string   70\n",
    "s=\"helloworld\"\n",
    "d={}\n",
    "i=0\n",
    "while i<len(s):\n",
    "    if s[i] not in d:\n",
    "        d[s[i]]=1\n",
    "    else:\n",
    "        d[s[i]]+=1\n",
    "    i+=1\n",
    "t=list(d)\n",
    "j=0\n",
    "r=0\n",
    "ch=''\n",
    "while j<len(t):\n",
    "    if r<d[t[j]]:\n",
    "        r=d[t[j]]\n",
    "        ch=t[j]\n",
    "    j+=1\n",
    "print(ch,r)"
   ]
  },
  {
   "cell_type": "code",
   "execution_count": 10,
   "metadata": {},
   "outputs": [
    {
     "name": "stdout",
     "output_type": "stream",
     "text": [
      "h 1\n"
     ]
    }
   ],
   "source": [
    "#program to find minimum occurance of char in given string    71\n",
    "s=\"helloworld\"\n",
    "d={}\n",
    "i=0\n",
    "while i<len(s):\n",
    "    if s[i] not in d:\n",
    "        d[s[i]]=1\n",
    "    else:\n",
    "        d[s[i]]+=1\n",
    "    i+=1\n",
    "t=list(d)\n",
    "j=0\n",
    "r=20\n",
    "ch=''\n",
    "while j<len(t):\n",
    "    if r>d[t[j]]:\n",
    "        r=d[t[j]]\n",
    "        ch=t[j]\n",
    "    j+=1\n",
    "print(ch,r)"
   ]
  },
  {
   "cell_type": "code",
   "execution_count": 21,
   "metadata": {},
   "outputs": [
    {
     "name": "stdout",
     "output_type": "stream",
     "text": [
      "{'h': 1, 'e': 1, 'l': 1, 'o': 1, 'w': 1, 'r': 1, 'd': 1} {'l': 5, 'o': 3}\n",
      "l 5\n",
      "o 3\n"
     ]
    }
   ],
   "source": [
    "#program to count the repeats of specific char in given string    72\n",
    "s=\"hellowlloolorld\"\n",
    "i=0\n",
    "d={}\n",
    "e={}\n",
    "while i<len(s):\n",
    "    if s[i] not in d:\n",
    "        d[s[i]]=1\n",
    "    elif s[i] in d:\n",
    "        if s[i] not in e:\n",
    "            e[s[i]]=1\n",
    "        else:\n",
    "            e[s[i]]+=1\n",
    "    i+=1\n",
    "print(d,e)\n",
    "j=0\n",
    "t=list(e)\n",
    "while j<len(t):\n",
    "    print(t[j],e[t[j]])\n",
    "    j+=1"
   ]
  },
  {
   "cell_type": "code",
   "execution_count": 29,
   "metadata": {},
   "outputs": [
    {
     "name": "stdout",
     "output_type": "stream",
     "text": [
      "{'h': 1, 'e': 1, 'l': 1, 'o': 1, 'w': 1, 'r': 1, 'd': 1} {'l': 5, 'o': 3}\n",
      "['l', 'o']\n",
      "5 l\n"
     ]
    }
   ],
   "source": [
    "#program to count the maximum repeated character   73\n",
    "s=\"hellowlloolorld\"\n",
    "i=0\n",
    "d={}\n",
    "e={}\n",
    "while i<len(s):\n",
    "    if s[i] not in d:\n",
    "        d[s[i]]=1\n",
    "    elif s[i] in d:\n",
    "        if s[i] not in e:\n",
    "            e[s[i]]=1\n",
    "        else:\n",
    "            e[s[i]]+=1\n",
    "    i+=1\n",
    "print(d,e)\n",
    "j=0\n",
    "t=list(e)\n",
    "r=0\n",
    "print(t)\n",
    "ch=''\n",
    "while j<len(t):\n",
    "    if r<e[t[j]]:\n",
    "        r=e[t[j]]\n",
    "        ch=t[j]\n",
    "    j+=1\n",
    "print(r,ch)"
   ]
  },
  {
   "cell_type": "code",
   "execution_count": 31,
   "metadata": {},
   "outputs": [
    {
     "name": "stdout",
     "output_type": "stream",
     "text": [
      "{'h': 1, 'e': 1, 'l': 1, 'o': 1, 'w': 1, 'r': 1, 'd': 1} {'l': 5, 'o': 3}\n",
      "['h', 'e', 'l', 'o', 'w', 'r', 'd']\n",
      "1 h\n"
     ]
    }
   ],
   "source": [
    "#program to count minimum occured character in given string    74\n",
    "s=\"hellowlloolorld\"\n",
    "i=0\n",
    "d={}\n",
    "e={}\n",
    "while i<len(s):\n",
    "    if s[i] not in d:\n",
    "        d[s[i]]=1\n",
    "    elif s[i] in d:\n",
    "        if s[i] not in e:\n",
    "            e[s[i]]=1\n",
    "        else:\n",
    "            e[s[i]]+=1\n",
    "    i+=1\n",
    "print(d,e)\n",
    "j=0\n",
    "t=list(d)\n",
    "r=10\n",
    "print(t)\n",
    "ch=''\n",
    "while j<len(t):\n",
    "    if r>d[t[j]]:\n",
    "        r=d[t[j]]\n",
    "        ch=t[j]\n",
    "    j+=1\n",
    "print(r,ch)"
   ]
  },
  {
   "cell_type": "code",
   "execution_count": 36,
   "metadata": {},
   "outputs": [
    {
     "name": "stdout",
     "output_type": "stream",
     "text": [
      "heo\n"
     ]
    }
   ],
   "source": [
    "#program to replace a specific character into new character    75\n",
    "s=\"hello\"\n",
    "i=0\n",
    "g=\"\"\n",
    "while i<len(s):\n",
    "    if s[i]=='l':\n",
    "        g+=''\n",
    "    else:\n",
    "        g+=s[i]\n",
    "    i+=1\n",
    "print(g)\n"
   ]
  },
  {
   "cell_type": "code",
   "execution_count": 35,
   "metadata": {},
   "outputs": [
    {
     "name": "stdout",
     "output_type": "stream",
     "text": [
      "hello\n"
     ]
    }
   ],
   "source": [
    "#program to change uppercase char into lower caase    76\n",
    "s=\"HellO\"\n",
    "i=0\n",
    "g=\"\"\n",
    "while i<len(s):\n",
    "    if 'A'<=s[i]<='Z':\n",
    "        g+=chr(ord(s[i])+32)\n",
    "    else:\n",
    "        g+=s[i]\n",
    "    i+=1\n",
    "print(g)"
   ]
  },
  {
   "cell_type": "code",
   "execution_count": 38,
   "metadata": {},
   "outputs": [
    {
     "name": "stdout",
     "output_type": "stream",
     "text": [
      "HELLO\n"
     ]
    }
   ],
   "source": [
    "#program to convert lowercase to uppercase   77\n",
    "s=\"HellO\"\n",
    "i=0\n",
    "g=\"\"\n",
    "while i<len(s):\n",
    "    if 'a'<=s[i]<='z':\n",
    "        g+=chr(ord(s[i])-32)\n",
    "    else:\n",
    "        g+=s[i]\n",
    "    i+=1\n",
    "print(g)"
   ]
  },
  {
   "cell_type": "code",
   "execution_count": 42,
   "metadata": {},
   "outputs": [
    {
     "name": "stdout",
     "output_type": "stream",
     "text": [
      "HeLlO\n"
     ]
    }
   ],
   "source": [
    "#program to converrt lower case to uppercase in even positions   78\n",
    "s=\"HellO\"\n",
    "i=0\n",
    "g=\"\"\n",
    "while i<len(s):\n",
    "    if 'a'<=s[i]<='z':\n",
    "        if i%2==0:\n",
    "            g+=chr(ord(s[i])-32)\n",
    "        else:\n",
    "            g+=s[i]\n",
    "    else:\n",
    "        g+=s[i]\n",
    "    i+=1\n",
    "print(g)"
   ]
  },
  {
   "cell_type": "code",
   "execution_count": 44,
   "metadata": {},
   "outputs": [
    {
     "name": "stdout",
     "output_type": "stream",
     "text": [
      "HeLlO\n"
     ]
    }
   ],
   "source": [
    "#program to convert uppercase to lowercase in odd positions    79\n",
    "s=\"HELLO\"\n",
    "i=0\n",
    "g=\"\"\n",
    "while i<len(s):\n",
    "    if 'A'<=s[i]<='Z':\n",
    "        if i%2!=0:\n",
    "            g+=chr(ord(s[i])+32)\n",
    "        else:\n",
    "            g+=s[i]\n",
    "    else:\n",
    "        g+=s[i]\n",
    "    i+=1\n",
    "print(g)"
   ]
  },
  {
   "cell_type": "code",
   "execution_count": 47,
   "metadata": {},
   "outputs": [
    {
     "name": "stdout",
     "output_type": "stream",
     "text": [
      "HeLLOwORlD**23nRM\n"
     ]
    }
   ],
   "source": [
    "#program to replace charecters   80\n",
    "s=\"hElloWorLd$%23Nrm\"\n",
    "i=0\n",
    "g=\"\"\n",
    "while i<len(s):\n",
    "    if 'A'<=s[i]<='Z':\n",
    "        g+=chr(ord(s[i])+32)\n",
    "    elif 'a'<=s[i]<='z':\n",
    "        g+=chr(ord(s[i])-32)\n",
    "    elif not('A'<=s[i]<='Z' or 'a'<=s[i]<='z' or '0'<=s[i]<='9'):\n",
    "        g+='*'\n",
    "    else:\n",
    "        g+=s[i]\n",
    "    i+=1\n",
    "print(g)"
   ]
  },
  {
   "cell_type": "code",
   "execution_count": 49,
   "metadata": {},
   "outputs": [
    {
     "name": "stdout",
     "output_type": "stream",
     "text": [
      "Fjeoi4924Ejrk3Rfdhfda-Dvhjshg45\n"
     ]
    }
   ],
   "source": [
    "#program to convert into title string   81\n",
    "s=\"fjeoi4924ejrk3rfdhfda-dvhjshg45\"\n",
    "print(s.title())"
   ]
  },
  {
   "cell_type": "code",
   "execution_count": 50,
   "metadata": {},
   "outputs": [
    {
     "name": "stdout",
     "output_type": "stream",
     "text": [
      "hello_world\n"
     ]
    }
   ],
   "source": [
    "#program to convert into snake case   82\n",
    "s=\"Hello world\"\n",
    "i=0\n",
    "g=\"\"\n",
    "while i<len(s):\n",
    "    if 'A'<=s[i]<='Z':\n",
    "        g+=chr(ord(s[i])+32)\n",
    "    elif s[i]==' ':\n",
    "        g+='_'\n",
    "    else:\n",
    "        g+=s[i]\n",
    "    i+=1\n",
    "print(g)"
   ]
  },
  {
   "cell_type": "code",
   "execution_count": 52,
   "metadata": {},
   "outputs": [
    {
     "name": "stdout",
     "output_type": "stream",
     "text": [
      "h101ll111\n"
     ]
    }
   ],
   "source": [
    "#program to replace voels into ascii values   83\n",
    "s=\"hello\"\n",
    "g=\"\"\n",
    "i=0\n",
    "while i<len(s):\n",
    "    if s[i] in \"aeiouAEIOU\":\n",
    "        g+=str(ord(s[i]))\n",
    "    else:\n",
    "        g+=s[i]\n",
    "    i+=1\n",
    "print(g)"
   ]
  },
  {
   "cell_type": "code",
   "execution_count": 53,
   "metadata": {},
   "outputs": [
    {
     "name": "stdout",
     "output_type": "stream",
     "text": [
      "104e108108o\n"
     ]
    }
   ],
   "source": [
    "#progrm to replace consonents into ascii values   84\n",
    "s=\"hello\"\n",
    "g=\"\"\n",
    "i=0\n",
    "while i<len(s):\n",
    "    if s[i] not in \"aeiouAEIOU\":\n",
    "        g+=str(ord(s[i]))\n",
    "    else:\n",
    "        g+=s[i]\n",
    "    i+=1\n",
    "print(g)"
   ]
  },
  {
   "cell_type": "code",
   "execution_count": 54,
   "metadata": {},
   "outputs": [
    {
     "name": "stdout",
     "output_type": "stream",
     "text": [
      "hell111\n"
     ]
    }
   ],
   "source": [
    "#program to replace even vowels with ascii values    85\n",
    "s=\"hello\"\n",
    "g=\"\"\n",
    "i=0\n",
    "while i<len(s):\n",
    "    if i%2==0:\n",
    "        if s[i] in \"aeiouAEIOU\":\n",
    "            g+=str(ord(s[i]))\n",
    "        else:\n",
    "            g+=s[i]\n",
    "    else:\n",
    "        g+=s[i]\n",
    "    i+=1\n",
    "print(g)"
   ]
  },
  {
   "cell_type": "code",
   "execution_count": 55,
   "metadata": {},
   "outputs": [
    {
     "name": "stdout",
     "output_type": "stream",
     "text": [
      "h101llo\n"
     ]
    }
   ],
   "source": [
    "#program to replace consonents in odd pplaces     86\n",
    "s=\"hello\"\n",
    "g=\"\"\n",
    "i=0\n",
    "while i<len(s):\n",
    "    if i%2!=0:\n",
    "        if s[i] in \"aeiouAEIOU\":\n",
    "            g+=str(ord(s[i]))\n",
    "        else:\n",
    "            g+=s[i]\n",
    "    else:\n",
    "        g+=s[i]\n",
    "    i+=1\n",
    "print(g)"
   ]
  },
  {
   "cell_type": "code",
   "execution_count": 57,
   "metadata": {},
   "outputs": [
    {
     "name": "stdout",
     "output_type": "stream",
     "text": [
      "hello'world\n"
     ]
    }
   ],
   "source": [
    "#program to replace spaces with hyphen     87\n",
    "s=\"hello world\"\n",
    "g=\"\"\n",
    "i=0\n",
    "while i<len(s):\n",
    "    if s[i]==' ':\n",
    "        g+=\"'\"\n",
    "    else:\n",
    "        g+=s[i]\n",
    "    i+=1\n",
    "print(g)"
   ]
  },
  {
   "cell_type": "code",
   "execution_count": 58,
   "metadata": {},
   "outputs": [
    {
     "name": "stdout",
     "output_type": "stream",
     "text": [
      "hlool\n"
     ]
    }
   ],
   "source": [
    "#program to remove odd position values    88\n",
    "s=\"helloworld\"\n",
    "g=\"\"\n",
    "i=0\n",
    "while i<len(s):\n",
    "    if i%2!=0:\n",
    "        g+=''\n",
    "    else:\n",
    "        g+=s[i]\n",
    "    i+=1\n",
    "print(g)"
   ]
  },
  {
   "cell_type": "code",
   "execution_count": 59,
   "metadata": {},
   "outputs": [
    {
     "name": "stdout",
     "output_type": "stream",
     "text": [
      "elwrd\n"
     ]
    }
   ],
   "source": [
    "#program to remove even positions     89\n",
    "s=\"helloworld\"\n",
    "g=\"\"\n",
    "i=0\n",
    "while i<len(s):\n",
    "    if i%2==0:\n",
    "        g+=''\n",
    "    else:\n",
    "        g+=s[i]\n",
    "    i+=1\n",
    "print(g)"
   ]
  },
  {
   "cell_type": "code",
   "execution_count": 60,
   "metadata": {},
   "outputs": [
    {
     "name": "stdout",
     "output_type": "stream",
     "text": [
      "@24\n"
     ]
    }
   ],
   "source": [
    "#program to remove alphabets      90\n",
    "s=\"hello@24there\"\n",
    "i=0\n",
    "g=\"\"\n",
    "while i<len(s):\n",
    "    if 'A'<=s[i]<='Z' or 'a'<=s[i]<='z':\n",
    "        g+=''\n",
    "    else:\n",
    "        g+=s[i]\n",
    "    i+=1\n",
    "print(g)"
   ]
  },
  {
   "cell_type": "code",
   "execution_count": 61,
   "metadata": {},
   "outputs": [
    {
     "name": "stdout",
     "output_type": "stream",
     "text": [
      "helloe\n"
     ]
    }
   ],
   "source": [
    "#program to remove ascii numbers   91\n",
    "s=\"hello13e4\"\n",
    "i=0\n",
    "g=\"\"\n",
    "while i<len(s):\n",
    "    if '0'<=s[i]<='9':\n",
    "        g+=''\n",
    "    else:\n",
    "        g+=s[i]\n",
    "    i+=1\n",
    "print(g)"
   ]
  },
  {
   "cell_type": "code",
   "execution_count": 63,
   "metadata": {},
   "outputs": [
    {
     "name": "stdout",
     "output_type": "stream",
     "text": [
      "hello123\n"
     ]
    }
   ],
   "source": [
    "#program to remove special characters    92\n",
    "s=\"hello@123\"\n",
    "i=0\n",
    "g=\"\"\n",
    "while i<len(s):\n",
    "    if not('A'<=s[i]<='Z' or 'a'<=s[i]<='z' or '0'<s[i]<='9'):\n",
    "        g+=''\n",
    "    else:\n",
    "        g+=s[i]\n",
    "    i+=1\n",
    "print(g)"
   ]
  },
  {
   "cell_type": "code",
   "execution_count": 67,
   "metadata": {},
   "outputs": [
    {
     "name": "stdout",
     "output_type": "stream",
     "text": [
      "muytdam\n",
      "not a palindrome\n"
     ]
    }
   ],
   "source": [
    "#program to check given string is palindrome or not    93\n",
    "s=\"madtyum\"\n",
    "i=len(s)-1\n",
    "g=\"\"\n",
    "while i>=0:\n",
    "    g+=s[i]\n",
    "    i-=1\n",
    "print(g)\n",
    "if s==g:\n",
    "    print(\"palindrome\")\n",
    "else:\n",
    "    print(\"not a palindrome\")"
   ]
  },
  {
   "cell_type": "code",
   "execution_count": 69,
   "metadata": {},
   "outputs": [
    {
     "name": "stdout",
     "output_type": "stream",
     "text": [
      "not\n",
      "lowercase\n",
      "lowercase\n",
      "lowercase\n",
      "lowercase\n"
     ]
    }
   ],
   "source": [
    "#program to check given string is lowercase or not    94\n",
    "s=\"Hello\"\n",
    "i=0\n",
    "while i<len(s):\n",
    "    if 'a'<=s[i]<='z':\n",
    "        print(\"lowercase\")\n",
    "    else:\n",
    "        print(\"not\")\n",
    "    i+=1"
   ]
  },
  {
   "cell_type": "code",
   "execution_count": 2,
   "metadata": {},
   "outputs": [
    {
     "name": "stdout",
     "output_type": "stream",
     "text": [
      "eoo123aii\n"
     ]
    }
   ],
   "source": [
    "#i/p hello world 123 haii      95\n",
    "#o/p eoo123aii\n",
    "s=\"hello world 123 haii\"\n",
    "i=0\n",
    "res=\"\"\n",
    "while i<len(s):\n",
    "    if s[i] in \"aeiouAEIOU\" or '0'<=s[i]<='9':\n",
    "        res+=s[i]\n",
    "    i+=1\n",
    "print(res)"
   ]
  },
  {
   "cell_type": "code",
   "execution_count": 3,
   "metadata": {},
   "outputs": [
    {
     "name": "stdout",
     "output_type": "stream",
     "text": [
      "eo o 123 aii\n"
     ]
    }
   ],
   "source": [
    "#i/p hello world 123 haii      96\n",
    "#o/p eo o 123 aii\n",
    "s=\"hello world 123 haii\"\n",
    "i=0\n",
    "res=\"\"\n",
    "while i<len(s):\n",
    "    if s[i] in \"aeiouAEIOU\" or '0'<=s[i]<='9' or s[i]==' ':\n",
    "        res+=s[i]\n",
    "    i+=1\n",
    "print(res)\n"
   ]
  },
  {
   "cell_type": "code",
   "execution_count": 4,
   "metadata": {},
   "outputs": [
    {
     "name": "stdout",
     "output_type": "stream",
     "text": [
      "eo o  aii\n"
     ]
    }
   ],
   "source": [
    "#i/p hello world 123 haii     97\n",
    "#o/p eo o aii\n",
    "s=\"hello world 123 haii\"\n",
    "i=0\n",
    "res=\"\"\n",
    "while i<len(s):\n",
    "    if s[i] in \"aeiouAEIOU\" or s[i]==' ':\n",
    "        res+=s[i]\n",
    "    i+=1\n",
    "print(res)"
   ]
  },
  {
   "cell_type": "code",
   "execution_count": 10,
   "metadata": {},
   "outputs": [
    {
     "name": "stdout",
     "output_type": "stream",
     "text": [
      "hll wrld \n",
      " eoo\n"
     ]
    }
   ],
   "source": [
    "#i/p hello world        98\n",
    "#o/p hll wrld\n",
    "#eoo\n",
    "s=\"hello world\"\n",
    "v=''\n",
    "c=''\n",
    "i=0\n",
    "while i<len(s):\n",
    "    if s[i]in \"aeiouAEIOU\":\n",
    "        v+=s[i]\n",
    "    elif 'A'<=s[i]<='Z' or 'a'<=s[i]<='z' or s[i]==' ':\n",
    "        c+=s[i]\n",
    "    i+=1\n",
    "print(c,'\\n',v)"
   ]
  },
  {
   "cell_type": "code",
   "execution_count": 11,
   "metadata": {},
   "outputs": [
    {
     "name": "stdout",
     "output_type": "stream",
     "text": [
      "hll wrld  h\n"
     ]
    }
   ],
   "source": [
    "#i/p hello world 123 haii       99\n",
    "#o/p hll world haii\n",
    "s= \"hello world 123 haii\"\n",
    "i=0\n",
    "res=\"\"\n",
    "while i<len(s):\n",
    "    if 'A'<=s[i]<='Z' or 'a'<=s[i]<='z':\n",
    "        if s[i] not in \"aeiouAEIOU\":\n",
    "            res+=s[i]\n",
    "    elif s[i]==' ':\n",
    "        res+=s[i]\n",
    "    i+=1\n",
    "print(res)"
   ]
  },
  {
   "cell_type": "code",
   "execution_count": 15,
   "metadata": {},
   "outputs": [
    {
     "name": "stdout",
     "output_type": "stream",
     "text": [
      "hll wrld \n",
      " eoo \n",
      " 12344\n"
     ]
    }
   ],
   "source": [
    "#i/p 12hello3 4world4       100\n",
    "#o/p hll wrld      \n",
    "#o/p eoo\n",
    "#o/p 12344\n",
    "s=\"12hello3 4world4\"\n",
    "c=''\n",
    "v=''\n",
    "n=''\n",
    "i=0\n",
    "while i<len(s):\n",
    "    if 'A'<=s[i]<='Z' or 'a'<=s[i]<='z' or s[i]==' ':\n",
    "        if s[i] not in \"aeiouAEIOU\" or s[i]==' ':\n",
    "            c+=s[i]\n",
    "        else:\n",
    "            v+=s[i]\n",
    "    elif '0'<=s[i]<='9':\n",
    "        n+=s[i]\n",
    "    i+=1\n",
    "print(c,'\\n',v,'\\n',n)"
   ]
  },
  {
   "cell_type": "code",
   "execution_count": 16,
   "metadata": {},
   "outputs": [
    {
     "name": "stdout",
     "output_type": "stream",
     "text": [
      "hllwrld \n",
      " eoo \n",
      " 12344 \n",
      " (*$ $#*)\n"
     ]
    }
   ],
   "source": [
    "#i/p (*12hello3$ $4#world4*)        101\n",
    "#o/p hllwrld\n",
    "#o/p eoo\n",
    "#o/p 12344\n",
    "#o/p (*$$#*)\n",
    "s=\"(*12hello3$ $4#world4*)\"\n",
    "c=''\n",
    "v=''\n",
    "n=''\n",
    "sp=''\n",
    "i=0\n",
    "while i<len(s):\n",
    "    if 'A'<=s[i]<='Z' or 'a'<=s[i]<='z':\n",
    "        if s[i] not in \"aeiouAEIOU\":\n",
    "            c+=s[i]\n",
    "        else:\n",
    "            v+=s[i]\n",
    "    elif '0'<=s[i]<='9':\n",
    "        n+=s[i]\n",
    "    else:\n",
    "        sp+=s[i]\n",
    "    i+=1\n",
    "print(c,'\\n',v,'\\n',n,'\\n',sp)"
   ]
  },
  {
   "cell_type": "code",
   "execution_count": 13,
   "metadata": {},
   "outputs": [
    {
     "name": "stdout",
     "output_type": "stream",
     "text": [
      ")*#$ $*( 44321 dlrowolleh\n",
      ")*#$ $*(44321\n"
     ]
    }
   ],
   "source": [
    "#i/p (*12hello3$ $4#world4*)          102\n",
    "#o/p )*#$ $*(,44321,ooe,drlwllh\n",
    "s=\"(*12hello3$ $4#world4*)\"\n",
    "i=len(s)-1\n",
    "sp=''\n",
    "n=''\n",
    "a=''\n",
    "l=''\n",
    "while i>=0:\n",
    "    if 'a'<=s[i]<='z' or 'A'<=s[i]<='Z':\n",
    "        a+=s[i]\n",
    "    elif '0'<=s[i]<='9':\n",
    "        n+=s[i]\n",
    "    else:\n",
    "        sp+=s[i]\n",
    "    i-=1\n",
    "print(sp,n,a)\n",
    "print(l)"
   ]
  },
  {
   "cell_type": "code",
   "execution_count": 16,
   "metadata": {},
   "outputs": [
    {
     "name": "stdout",
     "output_type": "stream",
     "text": [
      "hllwrld eoo 12344 (*$ $#*)\n",
      "\n"
     ]
    }
   ],
   "source": [
    "#i/p (*12hello3$ $4world4*)          103\n",
    "#o/p hllwrld,eoo,12344,(*$ $#*)\n",
    "s=\"(*12hello3$ $4#world4*)\"\n",
    "i=0\n",
    "sp=''\n",
    "n=''\n",
    "c=''\n",
    "v=''\n",
    "l=''\n",
    "while i<len(s):\n",
    "    if 'a'<=s[i]<='z' or 'A'<=s[i]<='Z':\n",
    "        if s[i] in \"aeiuoAEIOU\":\n",
    "            v+=s[i]\n",
    "        else:\n",
    "            c+=s[i]\n",
    "    elif '0'<=s[i]<='9':\n",
    "        n+=s[i]\n",
    "    else:\n",
    "        sp+=s[i]\n",
    "    i+=1\n",
    "print(c,v,n,sp)\n",
    "print(l)\n",
    "\n"
   ]
  },
  {
   "cell_type": "code",
   "execution_count": 3,
   "metadata": {},
   "outputs": [
    {
     "name": "stdout",
     "output_type": "stream",
     "text": [
      "hllwrld,)*#$ $*(,eoo,44321\n"
     ]
    }
   ],
   "source": [
    "#i/p (*12hello3$ $4#world4*)           104\n",
    "#o/p ,hllwrld,)*#$ $*(,eoo,44321\n",
    "s=\"(*12hello3$ $4#world4*)\"\n",
    "i=0\n",
    "sp=''\n",
    "n=''\n",
    "c=''\n",
    "v=''\n",
    "l=''\n",
    "res=\"\"\n",
    "while i<len(s):\n",
    "    if 'a'<=s[i]<='z' or 'A'<=s[i]<='Z':\n",
    "        if s[i] in \"aeiuoAEIOU\":\n",
    "            v+=s[i]\n",
    "        else:\n",
    "            c+=s[i]\n",
    "    elif '0'<=s[i]<='9':\n",
    "        n+=s[i]\n",
    "    else:\n",
    "        sp+=s[i]\n",
    "    i+=1\n",
    "res=c+\",\"+sp[::-1]+\",\"+v+\",\"+n[::-1]\n",
    "print(res)\n"
   ]
  },
  {
   "cell_type": "code",
   "execution_count": 5,
   "metadata": {},
   "outputs": [
    {
     "name": "stdout",
     "output_type": "stream",
     "text": [
      ")*#$ $*(,44321,ooe,dlrwllh\n"
     ]
    }
   ],
   "source": [
    "#i/p (*12hello3$ $4#world4*)          105\n",
    "#o/p )*#4 $*(,44321,ooe,dlrwllh\n",
    "s=\"(*12hello3$ $4#world4*)\"\n",
    "i=len(s)-1\n",
    "v=\"\"\n",
    "c=\"\"\n",
    "n=\"\"\n",
    "sp=\"\"\n",
    "res=\"\"\n",
    "while i>=0:\n",
    "    if 'a'<=s[i]<='z' or 'A'<=s[i]<='Z':\n",
    "        if s[i] in \"aeiuoAEIOU\":\n",
    "            v+=s[i]\n",
    "        else:\n",
    "            c+=s[i]\n",
    "    elif '0'<=s[i]<='9':\n",
    "        n+=s[i]\n",
    "    else:\n",
    "        sp+=s[i]\n",
    "    i-=1\n",
    "res=sp+','+n+','+v+','+c\n",
    "print(res)"
   ]
  },
  {
   "cell_type": "code",
   "execution_count": 6,
   "metadata": {},
   "outputs": [
    {
     "name": "stdout",
     "output_type": "stream",
     "text": [
      "dlrwllh,)*#$ $*(,ooe,44321\n"
     ]
    }
   ],
   "source": [
    "#i/p(*12hello3$ $4world4*)        106\n",
    "#o/p dlrwllh)*#$ $*(ooe44321\n",
    "s=\"(*12hello3$ $4#world4*)\"\n",
    "i=len(s)-1\n",
    "v=\"\"\n",
    "c=\"\"\n",
    "n=\"\"\n",
    "sp=\"\"\n",
    "res=\"\"\n",
    "while i>=0:\n",
    "    if 'a'<=s[i]<='z' or 'A'<=s[i]<='Z':\n",
    "        if s[i] in \"aeiuoAEIOU\":\n",
    "            v+=s[i]\n",
    "        else:\n",
    "            c+=s[i]\n",
    "    elif '0'<=s[i]<='9':\n",
    "        n+=s[i]\n",
    "    else:\n",
    "        sp+=s[i]\n",
    "    i-=1\n",
    "res=c+','+sp+','+v+','+n\n",
    "print(res)"
   ]
  },
  {
   "cell_type": "code",
   "execution_count": 12,
   "metadata": {},
   "outputs": [
    {
     "name": "stdout",
     "output_type": "stream",
     "text": [
      "h$ll*w*rld\n"
     ]
    }
   ],
   "source": [
    "#i/p HELLOWORLD               107\n",
    "#O/P h$ll*w*rld\n",
    "s=\"HELLOWORLD\"\n",
    "i=0\n",
    "res=\"\"\n",
    "while i<len(s):\n",
    "    if s[i] not in \"aeiouAEIOU\" and 'A'<=s[i]<='Z':\n",
    "        res+=chr(ord(s[i])+32)\n",
    "    elif  s[i]=='O':\n",
    "        res+='*'\n",
    "    elif s[i]==\"E\":\n",
    "        res+='$'\n",
    "    i+=1\n",
    "print(res)"
   ]
  },
  {
   "cell_type": "code",
   "execution_count": 16,
   "metadata": {},
   "outputs": [
    {
     "name": "stdout",
     "output_type": "stream",
     "text": [
      "hllwrld\n"
     ]
    }
   ],
   "source": [
    "#i/p 123HELLO WORLD456              108\n",
    "#o/p hllwrld21\n",
    "s=\"123HELLO WORLD456\"\n",
    "i=0\n",
    "res=\"\"\n",
    "while i<len(s):\n",
    "    if s[i] not in \"aeiouAEIOu\" and ('a'<=s[i]<='z' or 'A'<=s[i]<='Z'):\n",
    "        if 'A'<=s[i]<='Z':\n",
    "            res+=chr(ord(s[i])+32)\n",
    "        else:\n",
    "            res+=s[i]\n",
    "    i+=1\n",
    "print(res)"
   ]
  },
  {
   "cell_type": "code",
   "execution_count": 10,
   "metadata": {},
   "outputs": [
    {
     "name": "stdout",
     "output_type": "stream",
     "text": [
      "123hello world456\n"
     ]
    }
   ],
   "source": [
    "#i/p 123HELLO WORLD456              109\n",
    "#o/p 123hellO wOrld456\n",
    "s=\"123HELLO WORLD456\"\n",
    "i=0\n",
    "r=\"\"\n",
    "while i<len(s):\n",
    "    if 'A'<=s[i]<='Z' or 'a'<=s[i]<='z':\n",
    "            r+=chr(ord(s[i])+32)\n",
    "    else:\n",
    "        r+=s[i]\n",
    "    i+=1\n",
    "print(r)\n"
   ]
  },
  {
   "cell_type": "code",
   "execution_count": 11,
   "metadata": {},
   "outputs": [
    {
     "ename": "SyntaxError",
     "evalue": "invalid syntax. Perhaps you forgot a comma? (3375491373.py, line 13)",
     "output_type": "error",
     "traceback": [
      "\u001b[1;36m  Cell \u001b[1;32mIn[11], line 13\u001b[1;36m\u001b[0m\n\u001b[1;33m    elif '0'<=s[i]<='9' and s[i+1]!=('0' to '9'):\u001b[0m\n\u001b[1;37m                                     ^\u001b[0m\n\u001b[1;31mSyntaxError\u001b[0m\u001b[1;31m:\u001b[0m invalid syntax. Perhaps you forgot a comma?\n"
     ]
    }
   ],
   "source": [
    "#i/p 123HELLO WORLD456         110\n",
    "#o/p 321hEllO wOrld654\n",
    "s=\"123HELLO WORLD456\"\n",
    "i=0\n",
    "r=\"\"\n",
    "n=\"\"\n",
    "while i<len(s):\n",
    "    if 'A'<=s[i]<='Z' or 'a'<=s[i]<='z':\n",
    "        if s[i] not in \"aeiouAEIOU\":\n",
    "            r+=chr(ord(s[i])+32)\n",
    "        else:\n",
    "            r+=s[i]\n",
    "    elif '0'<=s[i]<='9' and s[i+1]!=('0' to '9'):\n",
    "        n+=s[i]\n",
    "        r+=n[::-1]\n",
    "    i+=1\n",
    "print(r)\n",
    "\n",
    "\n",
    "\n",
    "        "
   ]
  },
  {
   "cell_type": "code",
   "execution_count": 1,
   "metadata": {},
   "outputs": [
    {
     "name": "stdout",
     "output_type": "stream",
     "text": [
      "123*E**O *O***456\n"
     ]
    }
   ],
   "source": [
    "#i/p 123HELLO WORLD456           111\n",
    "#o/p 321*E**O *O***654\n",
    "s=\"123HELLO WORLD456\"\n",
    "i=0\n",
    "r=\"\"\n",
    "while i<len(s):\n",
    "    if 'A'<=s[i]<='Z' or 'a'<=s[i]<='z':\n",
    "        if s[i] not in \"aeiouAEIOU\":\n",
    "            r+='*'\n",
    "        else:\n",
    "            r+=s[i]\n",
    "    else:\n",
    "        r+=s[i]\n",
    "    i+=1\n",
    "print(r)\n"
   ]
  },
  {
   "cell_type": "code",
   "execution_count": 19,
   "metadata": {},
   "outputs": [
    {
     "name": "stdout",
     "output_type": "stream",
     "text": [
      "123*E**O *O***456\n"
     ]
    }
   ],
   "source": [
    "#i/p 123HELLO WORLD456            112\n",
    "#o/p 123*E**O ***456\n",
    "s=\"123HELLO WORLD456\"\n",
    "i=0\n",
    "r=\"\"\n",
    "while i<len(s):\n",
    "    if 'A'<=s[i]<='Z' or 'a'<=s[i]<='z':\n",
    "        if s[i] not in \"aeiouAEIOU\":\n",
    "            r+='*'\n",
    "        else:\n",
    "            r+=s[i]\n",
    "    else:\n",
    "        r+=s[i]\n",
    "    i+=1\n",
    "print(r)"
   ]
  },
  {
   "cell_type": "code",
   "execution_count": null,
   "metadata": {},
   "outputs": [],
   "source": [
    "#i/p HELLOWORLD              113\n",
    "#o/p h$ll*w*rld"
   ]
  },
  {
   "cell_type": "code",
   "execution_count": null,
   "metadata": {},
   "outputs": [],
   "source": [
    "#i/p abc                114\n",
    "#o/p xyz"
   ]
  },
  {
   "cell_type": "code",
   "execution_count": 25,
   "metadata": {},
   "outputs": [
    {
     "name": "stdout",
     "output_type": "stream",
     "text": [
      "['haii', 'hello', 'world', 'i', 'love', 'india', 'i', 'like', 'python']\n",
      "4516\n",
      "[['python']]\n"
     ]
    }
   ],
   "source": [
    "s=\"haii hello world i love india i like python\"\n",
    "i=0\n",
    "l=[]\n",
    "res=\"\"\n",
    "while i<len(s):\n",
    "    if s[i]!=' ':\n",
    "        res+=s[i]\n",
    "    else:\n",
    "        if len(res)!=0:\n",
    "            l+=[res]\n",
    "            res=\"\"\n",
    "    i+=1\n",
    "if len(res)!=0:\n",
    "    l+=[res]\n",
    "print(l)\n",
    "uni=''\n",
    "j=0\n",
    "while j<len(l):\n",
    "    if str(len(l[j])) not in uni:\n",
    "        uni+=str(len(l[j]))\n",
    "    j+=1\n",
    "print(uni)\n",
    "d=[]\n",
    "m=0\n",
    "while m<len(uni):\n",
    "    n=0\n",
    "    d=[[]]\n",
    "    while n<len(l):\n",
    "        if int(uni[m])==len(l[n]):\n",
    "            d[-1]+=[l[n]]\n",
    "        n+=1\n",
    "    m+=1\n",
    "print(d)"
   ]
  }
 ],
 "metadata": {
  "kernelspec": {
   "display_name": "Python 3",
   "language": "python",
   "name": "python3"
  },
  "language_info": {
   "codemirror_mode": {
    "name": "ipython",
    "version": 3
   },
   "file_extension": ".py",
   "mimetype": "text/x-python",
   "name": "python",
   "nbconvert_exporter": "python",
   "pygments_lexer": "ipython3",
   "version": "3.11.5"
  },
  "orig_nbformat": 4
 },
 "nbformat": 4,
 "nbformat_minor": 2
}
