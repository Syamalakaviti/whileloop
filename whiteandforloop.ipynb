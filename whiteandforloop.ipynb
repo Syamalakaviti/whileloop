{
 "cells": [
  {
   "cell_type": "code",
   "execution_count": 1,
   "metadata": {},
   "outputs": [
    {
     "name": "stdout",
     "output_type": "stream",
     "text": [
      "n\n",
      " \n",
      "i\n",
      "s\n",
      " \n",
      "a\n",
      " \n",
      "p\n",
      "r\n",
      "o\n",
      "g\n",
      "r\n"
     ]
    }
   ],
   "source": [
    "#print items present in string from range m to n   1\n",
    "s=\"python is a programming language\"\n",
    "m=eval(input(\"enter value\"))\n",
    "n=eval(input(\"enter value 2\"))\n",
    "while m<=n:\n",
    "    print(s[m])\n",
    "    m+=1"
   ]
  },
  {
   "cell_type": "code",
   "execution_count": 2,
   "metadata": {},
   "outputs": [
    {
     "name": "stdout",
     "output_type": "stream",
     "text": [
      "L\n",
      "L\n",
      "R\n",
      "L\n"
     ]
    }
   ],
   "source": [
    "#program to print uppercase characters in given string    2\n",
    "s=\"heLLowoRLd\"\n",
    "i=0\n",
    "while i<len(s):\n",
    "    if 'A'<=s[i]<='Z':\n",
    "        print(s[i])\n",
    "    i+=1"
   ]
  },
  {
   "cell_type": "code",
   "execution_count": 3,
   "metadata": {},
   "outputs": [
    {
     "name": "stdout",
     "output_type": "stream",
     "text": [
      "h\n",
      "e\n",
      "o\n",
      "w\n",
      "o\n",
      "d\n"
     ]
    }
   ],
   "source": [
    "#program to print lowercase characters in given string    2\n",
    "s=\"heLLowoRLd\"\n",
    "i=0\n",
    "while i<len(s):\n",
    "    if 'a'<=s[i]<='z':\n",
    "        print(s[i])\n",
    "    i+=1"
   ]
  },
  {
   "cell_type": "code",
   "execution_count": 10,
   "metadata": {},
   "outputs": [
    {
     "name": "stdout",
     "output_type": "stream",
     "text": [
      " #* eoo 2345\n",
      "eoo 2345  #*\n"
     ]
    }
   ],
   "source": [
    "#program to print,ascii numbers ,special characters,vowels     3\n",
    "s=\"heLloworld 234h#*5hfj\"\n",
    "v,sp,an=\"\",\"\",\"\"\n",
    "i=0\n",
    "while i<len(s):\n",
    "    if '0'<=s[i]<='9':\n",
    "        an+=s[i]\n",
    "    if not('A'<=s[i]<='Z' or 'a'<=s[i]<='z' or '0'<=s[i]<='9'):\n",
    "        sp+=s[i]\n",
    "    if s[i] in \"aeiouAEIOU\":\n",
    "        v+=s[i]\n",
    "    i+=1\n",
    "print(sp,v,an)\n",
    "vo,spe,anm=\"\",\"\",\"\"\n",
    "for i in s:\n",
    "    if '0'<=i<='9':\n",
    "        anm+=i\n",
    "    if not('A'<=i<='Z' or 'a'<=i<='z' or '0'<=i<='9'):\n",
    "        spe+=i\n",
    "    if i in \"aeiouAEIOU\":\n",
    "        vo+=i\n",
    "print(vo,anm,spe)"
   ]
  },
  {
   "cell_type": "code",
   "execution_count": 4,
   "metadata": {},
   "outputs": [
    {
     "name": "stdout",
     "output_type": "stream",
     "text": [
      "olleh\n",
      "olleh\n"
     ]
    }
   ],
   "source": [
    "# program to reverse given string    4\n",
    "s=\"hello\"\n",
    "rev=\"\"\n",
    "i=len(s)-1\n",
    "while i>=0:\n",
    "    rev+=s[i]\n",
    "    i-=1\n",
    "print(rev)\n",
    "res=\"\"\n",
    "for i in s:\n",
    "    res=i+res\n",
    "print(res)"
   ]
  },
  {
   "cell_type": "code",
   "execution_count": 5,
   "metadata": {},
   "outputs": [
    {
     "name": "stdout",
     "output_type": "stream",
     "text": [
      "h\n",
      "l\n",
      "o\n",
      "o\n",
      "l\n"
     ]
    }
   ],
   "source": [
    "#program to print even character    5\n",
    "s=\"helloworld\"\n",
    "for i in range(len(s)):\n",
    "    if i%2==0:\n",
    "        print(s[i])"
   ]
  },
  {
   "cell_type": "code",
   "execution_count": 6,
   "metadata": {},
   "outputs": [
    {
     "name": "stdout",
     "output_type": "stream",
     "text": [
      "e\n",
      "l\n",
      "w\n",
      "r\n",
      "d\n"
     ]
    }
   ],
   "source": [
    "#program to print odd positions character   6\n",
    "s=\"helloworld\"\n",
    "for i in range(0,len(s)):\n",
    "    if i%2!=0:\n",
    "        print(s[i])"
   ]
  },
  {
   "cell_type": "code",
   "execution_count": 7,
   "metadata": {},
   "outputs": [
    {
     "name": "stdout",
     "output_type": "stream",
     "text": [
      "10\n",
      "10\n"
     ]
    }
   ],
   "source": [
    "#program to count number of characerr in string    7\n",
    "s=\"helloworld\"\n",
    "i=0\n",
    "c=0\n",
    "count=0\n",
    "while i<len(s):\n",
    "    c+=1\n",
    "    i+=1\n",
    "print(c)\n",
    "for i in s:\n",
    "    count+=1\n",
    "print(count)"
   ]
  },
  {
   "cell_type": "code",
   "execution_count": 11,
   "metadata": {},
   "outputs": [
    {
     "name": "stdout",
     "output_type": "stream",
     "text": [
      "7\n",
      "7\n"
     ]
    }
   ],
   "source": [
    "#program to find lengthwithout length function    8\n",
    "s=\"python \"\n",
    "c=0\n",
    "count=0\n",
    "for i in s:\n",
    "    c+=1\n",
    "print(c)\n",
    "while s:\n",
    "    count+=1\n",
    "    s=s[:-1]\n",
    "print(count)"
   ]
  },
  {
   "cell_type": "code",
   "execution_count": 12,
   "metadata": {},
   "outputs": [
    {
     "name": "stdout",
     "output_type": "stream",
     "text": [
      "18\n",
      "18\n"
     ]
    }
   ],
   "source": [
    "#program to count alphabets in given string   9\n",
    "s=\"efuewyri3643910yhskdjkfgd\"\n",
    "i=0\n",
    "c=0\n",
    "while i<len(s):\n",
    "    if 'A'<=s[i]<='Z' or 'a'<=s[i]<='z':\n",
    "        c+=1\n",
    "    i+=1\n",
    "print(c)\n",
    "count=0\n",
    "for i in s:\n",
    "    if 'A'<=i<='Z' or 'a'<=i<='z':\n",
    "        count+=1\n",
    "print(count)\n"
   ]
  },
  {
   "cell_type": "code",
   "execution_count": 13,
   "metadata": {},
   "outputs": [
    {
     "name": "stdout",
     "output_type": "stream",
     "text": [
      "28 0\n",
      "28 0\n"
     ]
    }
   ],
   "source": [
    "#program to count uppercase and lowercase characters    10\n",
    "s=\"python is a proggamming language\"\n",
    "i=0\n",
    "uc=0\n",
    "lc=0\n",
    "while i<len(s):\n",
    "    if 'A'<=s[i]<='Z' or 'a'<=s[i]<='z':\n",
    "        if 'A'<=s[i]<='Z':\n",
    "            uc+=1\n",
    "        else:\n",
    "            lc+=1\n",
    "    i+=1\n",
    "print(lc,uc)\n",
    "l=0\n",
    "u=0\n",
    "for i in s:\n",
    "    if 'A'<=i<='Z' or 'a'<=i<='z':\n",
    "        if 'A'<=i<='Z':\n",
    "            u+=1\n",
    "        else:\n",
    "            l+=1\n",
    "print(l,u)\n"
   ]
  },
  {
   "cell_type": "code",
   "execution_count": 14,
   "metadata": {},
   "outputs": [
    {
     "name": "stdout",
     "output_type": "stream",
     "text": [
      "0 9\n"
     ]
    }
   ],
   "source": [
    "#progrm to count sp character and asciinumber in string   11\n",
    "s=\"pyt#ON IS @PROGRAMMING LAN&(*)GUAGE\"\n",
    "i=0\n",
    "spc=0\n",
    "an=0\n",
    "while i<len(s):\n",
    "    if '0'<=s[i]<='9' :\n",
    "        spc+=1\n",
    "    elif not('A'<=s[i]<='Z' or 'a'<=s[i]<='z'):\n",
    "        an+=1\n",
    "    i+=1\n",
    "print(spc,an)\n"
   ]
  },
  {
   "cell_type": "code",
   "execution_count": 19,
   "metadata": {},
   "outputs": [
    {
     "name": "stdout",
     "output_type": "stream",
     "text": [
      "5\n"
     ]
    }
   ],
   "source": [
    "#program to count no.of words in given string   12\n",
    "s=\"python is a programming language \"\n",
    "c=1\n",
    "i=0\n",
    "if s[-1]==' ':\n",
    "        c=0\n",
    "while i<len(s):\n",
    "    if s[i]==' ':\n",
    "        c+=1\n",
    "    i+=1\n",
    "print(c)\n"
   ]
  },
  {
   "cell_type": "code",
   "execution_count": 23,
   "metadata": {},
   "outputs": [
    {
     "name": "stdout",
     "output_type": "stream",
     "text": [
      "27\n"
     ]
    }
   ],
   "source": [
    "#program to sum digits in string   13\n",
    "s=\"3823dbndfore344\"\n",
    "i=0\n",
    "sum=0\n",
    "while i<len(s):\n",
    "    if '0'<=s[i]<='9':\n",
    "        sum+=int(s[i])\n",
    "    i+=1\n",
    "print(sum)"
   ]
  },
  {
   "cell_type": "code",
   "execution_count": 1,
   "metadata": {},
   "outputs": [
    {
     "name": "stdout",
     "output_type": "stream",
     "text": [
      "l\n"
     ]
    }
   ],
   "source": [
    "#progrm to print irst occurance of chracter   14\n",
    "s=\"helloworld\"\n",
    "for i in s:\n",
    "    if i=='l':\n",
    "        print(i)\n",
    "        break"
   ]
  },
  {
   "cell_type": "code",
   "execution_count": 3,
   "metadata": {},
   "outputs": [
    {
     "name": "stdout",
     "output_type": "stream",
     "text": [
      "l 8\n"
     ]
    }
   ],
   "source": [
    "#progrm to print last occurance   15\n",
    "s=\"helloworld\"\n",
    "i=len(s)-1\n",
    "while i>=0:\n",
    "    if s[i]=='l':\n",
    "        print(s[i],i)\n",
    "        break\n",
    "    i-=1"
   ]
  },
  {
   "cell_type": "code",
   "execution_count": 11,
   "metadata": {},
   "outputs": [],
   "source": [
    "#progrm to print first not occurance   16\n",
    "s=\"helloworld\"\n",
    "n=input(\"enter value\")\n",
    "c=0\n",
    "i=0\n",
    "while i<len(s):\n",
    "    if s[i]=='n':\n",
    "        c+=1\n",
    "        print(\"hii\")\n",
    "        if c==2:\n",
    "            print(s[i],i)\n",
    "            break\n",
    "    i+=1\n"
   ]
  },
  {
   "cell_type": "code",
   "execution_count": 12,
   "metadata": {},
   "outputs": [
    {
     "name": "stdout",
     "output_type": "stream",
     "text": [
      "l 3\n"
     ]
    }
   ],
   "source": [
    "#print last not occurance    17\n",
    "s=\"helloworld\"\n",
    "i=len(s)-1\n",
    "c=0\n",
    "while i>=0:\n",
    "    if s[i]=='l':\n",
    "        c+=1\n",
    "        if c==2:\n",
    "            print(s[i],i)\n",
    "            break\n",
    "    i-=1\n"
   ]
  },
  {
   "cell_type": "code",
   "execution_count": 6,
   "metadata": {},
   "outputs": [
    {
     "name": "stdout",
     "output_type": "stream",
     "text": [
      "helothere\n"
     ]
    }
   ],
   "source": [
    "#remove first occurance    18\n",
    "s=\"hellothere\"\n",
    "i=0\n",
    "c=0\n",
    "res=''\n",
    "while i<len(s):\n",
    "    if s[i]=='l':\n",
    "        c+=1\n",
    "        if c==1:\n",
    "            res+=''\n",
    "        else:\n",
    "            res+=s[i]\n",
    "    else:\n",
    "        res+=s[i]\n",
    "    i+=1\n",
    "print(res)"
   ]
  },
  {
   "cell_type": "code",
   "execution_count": 13,
   "metadata": {},
   "outputs": [
    {
     "name": "stdout",
     "output_type": "stream",
     "text": [
      "hellothere\n"
     ]
    }
   ],
   "source": [
    "#remove last occurance     19\n",
    "s=\"hellothelre\"\n",
    "i=len(s)-1\n",
    "c=0\n",
    "res=''\n",
    "while i>=0:\n",
    "    if s[i]=='l':\n",
    "        c+=1\n",
    "        if c==1:\n",
    "            res+=''\n",
    "        else:\n",
    "            res+=s[i]\n",
    "    else:\n",
    "        res+=s[i]\n",
    "    i-=1\n",
    "print (res[::-1])\n"
   ]
  },
  {
   "cell_type": "code",
   "execution_count": 25,
   "metadata": {},
   "outputs": [
    {
     "name": "stdout",
     "output_type": "stream",
     "text": [
      "2\n"
     ]
    }
   ],
   "source": [
    "#count occurance of specific char   20\n",
    "s=\"hellothere\"\n",
    "c=0\n",
    "i=0\n",
    "while i<len(s):\n",
    "    if s[i]=='l':\n",
    "        c+=1\n",
    "    i+=1\n",
    "print(c)"
   ]
  },
  {
   "cell_type": "code",
   "execution_count": 28,
   "metadata": {},
   "outputs": [
    {
     "name": "stdout",
     "output_type": "stream",
     "text": [
      "3 l\n"
     ]
    }
   ],
   "source": [
    "#count max occurance of a char    21\n",
    "s=\"helloworld\"\n",
    "i=0\n",
    "d={}\n",
    "while i<len(s):\n",
    "    if s[i] not in d:\n",
    "        d[s[i]]=1\n",
    "    else:\n",
    "        d[s[i]]+=1\n",
    "    i+=1\n",
    "l=list(d)\n",
    "ch=''\n",
    "max=0\n",
    "for j in range(len(l)):\n",
    "    if max<d[l[j]]:\n",
    "        max=d[l[j]]\n",
    "        ch=l[j]\n",
    "print(max,ch)"
   ]
  },
  {
   "cell_type": "code",
   "execution_count": 29,
   "metadata": {},
   "outputs": [
    {
     "name": "stdout",
     "output_type": "stream",
     "text": [
      "1 \n"
     ]
    }
   ],
   "source": [
    "#count min occurance of char  22\n",
    "s=\"helloworld\"\n",
    "i=0\n",
    "d={}\n",
    "while i<len(s):\n",
    "    if s[i] not in d:\n",
    "        d[s[i]]=1\n",
    "    else:\n",
    "        d[s[i]]+=1\n",
    "    i+=1\n",
    "l=list(d)\n",
    "ch=''\n",
    "max=d[l[0]]\n",
    "for j in range(len(l)):\n",
    "    if max>d[l[j]]:\n",
    "        max=d[l[j]]\n",
    "        ch=l[j]\n",
    "print(max,ch)\n"
   ]
  },
  {
   "cell_type": "code",
   "execution_count": 38,
   "metadata": {},
   "outputs": [
    {
     "name": "stdout",
     "output_type": "stream",
     "text": [
      "{'h': 1, 'e': 1, 'l': 3, 'o': 2, 'w': 1, 'r': 1, 'd': 1}\n",
      "2\n"
     ]
    }
   ],
   "source": [
    "#repeats of specific character   23\n",
    "s=\"helloworld\"\n",
    "i=0\n",
    "d={}\n",
    "while i<len(s):\n",
    "    if s[i] not in d:\n",
    "        d[s[i]]=1\n",
    "    else:\n",
    "        d[s[i]]+=1\n",
    "    i+=1\n",
    "print(d)\n",
    "print(d['o'])"
   ]
  },
  {
   "cell_type": "code",
   "execution_count": 3,
   "metadata": {},
   "outputs": [
    {
     "name": "stdout",
     "output_type": "stream",
     "text": [
      "{'h': 1, 'e': 1, 'l': 3, 'o': 2, 'w': 1, 'r': 1, 'd': 1}\n",
      "3 l\n"
     ]
    }
   ],
   "source": [
    "#count max repeated char    24\n",
    "s=\"helloworld\"\n",
    "i=0\n",
    "d={}\n",
    "while i<len(s):\n",
    "    if s[i] not in d:\n",
    "        d[s[i]]=1\n",
    "    else:\n",
    "        d[s[i]]+=1\n",
    "    i+=1\n",
    "l=list(d)\n",
    "ch=''\n",
    "max=0\n",
    "for j in range(len(l)):\n",
    "    if max<d[l[j]]:\n",
    "        max=d[l[j]]\n",
    "        ch=l[j]\n",
    "print(d)\n",
    "print(max,ch)"
   ]
  },
  {
   "cell_type": "code",
   "execution_count": 6,
   "metadata": {},
   "outputs": [
    {
     "name": "stdout",
     "output_type": "stream",
     "text": [
      "hellcworld\n"
     ]
    }
   ],
   "source": [
    "#replace specific char into new char   25\n",
    "s=\"helloworld\"\n",
    "s=s[:4]+\"c\"+s[4+1:]\n",
    "print(s)\n"
   ]
  },
  {
   "cell_type": "code",
   "execution_count": 7,
   "metadata": {},
   "outputs": [
    {
     "name": "stdout",
     "output_type": "stream",
     "text": [
      "HELLOWORLD\n"
     ]
    }
   ],
   "source": [
    "#program to convert lowercase to uppercase    26\n",
    "s=\"helloworld\"\n",
    "res=''\n",
    "for i in s:\n",
    "    if 'a'<=i<='z':\n",
    "        res+=chr(ord(i)-32)\n",
    "    else:\n",
    "        res+=i\n",
    "print(res) "
   ]
  },
  {
   "cell_type": "code",
   "execution_count": 8,
   "metadata": {},
   "outputs": [
    {
     "name": "stdout",
     "output_type": "stream",
     "text": [
      "helloworld\n"
     ]
    }
   ],
   "source": [
    "\n",
    "#program to convert uppercse to lowercase    27\n",
    "s=\"heLLoworld\"\n",
    "res=''\n",
    "for i in s:\n",
    "    if 'A'<=i<='Z':\n",
    "        res+=chr(ord(i)+32)\n",
    "    else:\n",
    "        res+=i\n",
    "print(res)"
   ]
  },
  {
   "cell_type": "code",
   "execution_count": 10,
   "metadata": {},
   "outputs": [
    {
     "name": "stdout",
     "output_type": "stream",
     "text": [
      "hlool\n"
     ]
    }
   ],
   "source": [
    "#program to convert uppercse to lowercase    28\n",
    "s=\"heLLoworld\"\n",
    "res=''\n",
    "for i in range(len(s)):\n",
    "    if i%2==0:\n",
    "        if 'A'<=s[i]<='Z':\n",
    "            res+=chr(ord(s[i])+32)\n",
    "        else:\n",
    "            res+=s[i]\n",
    "print(res)"
   ]
  },
  {
   "cell_type": "code",
   "execution_count": 11,
   "metadata": {},
   "outputs": [
    {
     "name": "stdout",
     "output_type": "stream",
     "text": [
      "elwrd\n"
     ]
    }
   ],
   "source": [
    "#program to convert uppercse to lowercase    29\n",
    "s=\"heLLoworld\"\n",
    "res=''\n",
    "for i in range(len(s)):\n",
    "    if i%2!=0:\n",
    "        if 'A'<=s[i]<='Z':\n",
    "            res+=chr(ord(s[i])+32)\n",
    "        else:\n",
    "            res+=s[i]\n",
    "print(res)"
   ]
  },
  {
   "cell_type": "code",
   "execution_count": 13,
   "metadata": {},
   "outputs": [
    {
     "name": "stdout",
     "output_type": "stream",
     "text": [
      "HEkyut******HJGDF\n"
     ]
    }
   ],
   "source": [
    "#program to convert upper to lower and viceversa    30\n",
    "s=\"heKYUT$%#^%&hjgdf\"\n",
    "res=''\n",
    "for i in s:\n",
    "    if 'A'<=i<='Z':\n",
    "        res+=chr(ord(i)+32)\n",
    "    elif 'a'<=i<='z':\n",
    "        res+=chr(ord(i)-32)\n",
    "    elif not('A'<=i<='Z' or 'a'<=i<='z' or '0'<=i<='9'):\n",
    "        res+='*'\n",
    "    else:\n",
    "        res+=i\n",
    "print(res)\n"
   ]
  },
  {
   "cell_type": "code",
   "execution_count": null,
   "metadata": {},
   "outputs": [],
   "source": [
    "#program for title case    31\n"
   ]
  },
  {
   "cell_type": "code",
   "execution_count": null,
   "metadata": {},
   "outputs": [],
   "source": [
    "#program for snake case     32"
   ]
  },
  {
   "cell_type": "code",
   "execution_count": null,
   "metadata": {},
   "outputs": [],
   "source": [
    "#toggle case in string    33"
   ]
  },
  {
   "cell_type": "code",
   "execution_count": 14,
   "metadata": {},
   "outputs": [
    {
     "name": "stdout",
     "output_type": "stream",
     "text": [
      "h)ll3w3rld\n"
     ]
    }
   ],
   "source": [
    "#replace vowels into ascii values in string    34\n",
    "s=\"helloworld\"\n",
    "res=''\n",
    "for i in s:\n",
    "    if i in \"aeiouAEIou\":\n",
    "        res+=chr(ord(i)-60)\n",
    "    else:\n",
    "        res+=i\n",
    "print(res)"
   ]
  },
  {
   "cell_type": "code",
   "execution_count": 17,
   "metadata": {},
   "outputs": [
    {
     "ename": "SyntaxError",
     "evalue": "invalid syntax (305663420.py, line 5)",
     "output_type": "error",
     "traceback": [
      "\u001b[1;36m  Cell \u001b[1;32mIn[17], line 5\u001b[1;36m\u001b[0m\n\u001b[1;33m    if not in \"aeiouAEIOU\":\u001b[0m\n\u001b[1;37m           ^\u001b[0m\n\u001b[1;31mSyntaxError\u001b[0m\u001b[1;31m:\u001b[0m invalid syntax\n"
     ]
    }
   ],
   "source": [
    "#program consonants into ascii values in odd pos char in string    35\n",
    "s=\"helloworld\"\n",
    "res=''\n",
    "for i in s:\n",
    "    if not in \"aeiouAEIOU\":\n",
    "        res+=chr(ord(i)-50)\n",
    "    else:\n",
    "        res+=i\n",
    "print(res)"
   ]
  },
  {
   "cell_type": "code",
   "execution_count": 18,
   "metadata": {},
   "outputs": [
    {
     "name": "stdout",
     "output_type": "stream",
     "text": [
      "hello-wor-ld\n"
     ]
    }
   ],
   "source": [
    "#program to replace spaces with hyphen in string    36\n",
    "s=\"hello wor ld\"\n",
    "res=''\n",
    "for i in s:\n",
    "    if i==' ':\n",
    "        res+='-'\n",
    "    else:\n",
    "        res+=i\n",
    "print(res)\n"
   ]
  },
  {
   "cell_type": "code",
   "execution_count": 19,
   "metadata": {},
   "outputs": [
    {
     "name": "stdout",
     "output_type": "stream",
     "text": [
      "hlool\n"
     ]
    }
   ],
   "source": [
    "#program to remove odd positions in given string    37\n",
    "s=\"helloworld\"\n",
    "i=0\n",
    "res=''\n",
    "while i<len(s):\n",
    "    if i%2!=0:\n",
    "        res+=''\n",
    "    else:\n",
    "        res+=s[i]\n",
    "    i+=1\n",
    "print(res)"
   ]
  },
  {
   "cell_type": "code",
   "execution_count": 20,
   "metadata": {},
   "outputs": [
    {
     "name": "stdout",
     "output_type": "stream",
     "text": [
      "elwrd\n"
     ]
    }
   ],
   "source": [
    "#program to remove even pos in string     38\n",
    "s=\"helloworld\"\n",
    "res=''\n",
    "i=0\n",
    "while i<len(s):\n",
    "    if i%2==0:\n",
    "        res+=''\n",
    "    else:\n",
    "        res+=s[i]\n",
    "    i+=1\n",
    "print(res)"
   ]
  },
  {
   "cell_type": "code",
   "execution_count": 21,
   "metadata": {},
   "outputs": [
    {
     "name": "stdout",
     "output_type": "stream",
     "text": [
      "%$^%123\n"
     ]
    }
   ],
   "source": [
    "#program to remove alphabets     39\n",
    "s=\"hello%$^%worl123\"\n",
    "res=''\n",
    "for i in s:\n",
    "    if 'A'<=i<='Z' or 'a'<=i<='z':\n",
    "        res+=''\n",
    "    else:\n",
    "        res+=i\n",
    "print(res)"
   ]
  },
  {
   "cell_type": "code",
   "execution_count": 22,
   "metadata": {},
   "outputs": [
    {
     "name": "stdout",
     "output_type": "stream",
     "text": [
      "helloworld\n"
     ]
    }
   ],
   "source": [
    "#program to remove special characters   40\n",
    "s=\"hello@world$%\"\n",
    "res=\"\"\n",
    "for i in s:\n",
    "    if not('A'<=i<='Z' or 'a'<=i<='z' or '0'<=i<='9'):\n",
    "        res+=''\n",
    "    else:\n",
    "        res+=i\n",
    "print(res)"
   ]
  },
  {
   "cell_type": "code",
   "execution_count": 23,
   "metadata": {},
   "outputs": [
    {
     "name": "stdout",
     "output_type": "stream",
     "text": [
      "hello@world\n"
     ]
    }
   ],
   "source": [
    "#program to remove ascii numbers    41\n",
    "s=\"hello@world123\"\n",
    "res=''\n",
    "for i in s:\n",
    "    if '0'<=i<='9':\n",
    "        res+=''\n",
    "    else:\n",
    "        res+=i\n",
    "print(res)"
   ]
  },
  {
   "cell_type": "code",
   "execution_count": 3,
   "metadata": {},
   "outputs": [
    {
     "name": "stdout",
     "output_type": "stream",
     "text": [
      "helloworld\n"
     ]
    }
   ],
   "source": [
    "#program to remove special character    42\n",
    "s=\"hello@world#%\"\n",
    "res=\"\"\n",
    "for i in s:\n",
    "    if not('A'<=i<='Z' or 'a'<=i<='z' or '0'<=i<='9'):\n",
    "        res+=''\n",
    "    else:\n",
    "        res+=i\n",
    "print(res)\n"
   ]
  },
  {
   "cell_type": "code",
   "execution_count": 5,
   "metadata": {},
   "outputs": [
    {
     "name": "stdout",
     "output_type": "stream",
     "text": [
      "madam\n",
      "palindrome\n"
     ]
    }
   ],
   "source": [
    "#program to check given string is palindrome or not    43\n",
    "s=\"madam\"\n",
    "res=\"\"\n",
    "i=len(s)-1\n",
    "while i>=0:\n",
    "    res+=s[i]\n",
    "    i-=1\n",
    "print(res)\n",
    "if(res==s):\n",
    "    print(\"palindrome\")\n",
    "else:\n",
    "    print(\"not a palindrome\")\n"
   ]
  },
  {
   "cell_type": "code",
   "execution_count": 12,
   "metadata": {},
   "outputs": [],
   "source": [
    "#to check given string is lowercase or not    44\n",
    "s=\"hello\"\n",
    "res=\"\"\n",
    "for i in s:\n",
    "    if 'a'<=i<='z':\n",
    "        res+=\"\"\n",
    "    else:\n",
    "        print(False)"
   ]
  },
  {
   "cell_type": "code",
   "execution_count": 13,
   "metadata": {},
   "outputs": [
    {
     "name": "stdout",
     "output_type": "stream",
     "text": [
      "eoo123aii\n"
     ]
    }
   ],
   "source": [
    "#\"hello world 123 haii\" o/p eoo123aii\n",
    "s=\"hello world 123 haii\"\n",
    "res=\"\"\n",
    "for i in s:\n",
    "    if i in \"aeiouAEIOU\" or '0'<=i<='9':\n",
    "        res+=i\n",
    "    else:\n",
    "        res+=\"\"\n",
    "print(res)\n"
   ]
  },
  {
   "cell_type": "code",
   "execution_count": 16,
   "metadata": {},
   "outputs": [
    {
     "name": "stdout",
     "output_type": "stream",
     "text": [
      "eo o 123 aii\n"
     ]
    }
   ],
   "source": [
    "#\"hello world 123 haii\" o/p eo o 123 aii\n",
    "s=\"hello world 123 haii\"\n",
    "res=\"\"\n",
    "for i in s:\n",
    "    if i in \"aeiouAEIOU\" or '0'<=i<='9' or i==\" \":\n",
    "        res+=i\n",
    "    else:\n",
    "        res+=\"\"\n",
    "print(res)\n"
   ]
  },
  {
   "cell_type": "code",
   "execution_count": 17,
   "metadata": {},
   "outputs": [
    {
     "name": "stdout",
     "output_type": "stream",
     "text": [
      "eo o  aii\n"
     ]
    }
   ],
   "source": [
    "#\"hello world 123 haii\" o/p eo o aii\n",
    "s=\"hello world 123 haii\"\n",
    "res=\"\"\n",
    "for i in s:\n",
    "    if i in \"aeiouAEIOU\"  or i==\" \":\n",
    "        res+=i\n",
    "    else:\n",
    "        res+=\"\"\n",
    "print(res)"
   ]
  },
  {
   "cell_type": "code",
   "execution_count": 18,
   "metadata": {},
   "outputs": [
    {
     "name": "stdout",
     "output_type": "stream",
     "text": [
      "hllwrldh\n"
     ]
    }
   ],
   "source": [
    "#\"hello world 123 haii\" o/p hll world haii\n",
    "s=\"hello world 123 haii\"\n",
    "res=\"\"\n",
    "for i in s:\n",
    "    if 'A'<=i<='Z' or 'a'<=i<='z':\n",
    "        if i not in \"aeiouAEIOU\" :\n",
    "            res+=i\n",
    "        else:\n",
    "            res+=\"\"\n",
    "print(res)"
   ]
  },
  {
   "cell_type": "code",
   "execution_count": 23,
   "metadata": {},
   "outputs": [
    {
     "name": "stdout",
     "output_type": "stream",
     "text": [
      "hll wrld\n"
     ]
    }
   ],
   "source": [
    "#\"hello world\" o/p hll wrld\n",
    "s=\"hello world\" \n",
    "res=\"\"\n",
    "for i in s:\n",
    "    if 'A'<=i<='Z' or 'a'<=i<='z' or i==\" \":\n",
    "        if i not in \"aeiouAEIOU\" :\n",
    "            res+=i\n",
    "        else:\n",
    "            res+=\"\"\n",
    "print(res)"
   ]
  },
  {
   "cell_type": "code",
   "execution_count": 3,
   "metadata": {},
   "outputs": [
    {
     "name": "stdout",
     "output_type": "stream",
     "text": [
      "eoo\n",
      "hllwrld\n",
      "(*123$4#4*)\n",
      "\n"
     ]
    }
   ],
   "source": [
    "#(*12hello3$4#world4*) o/p \"hllwrld\" \"eoo\" \"12344  (*$$#*)\"\n",
    "s=\"(*12hello3$4#world4*)\"\n",
    "uc,lc,an,sp='','','',''\n",
    "for i in s:\n",
    "    if 'A'<=i<='Z' or 'a'<=i<='z':\n",
    "        if i in \"aeiouAEIOU\":\n",
    "            uc+=i\n",
    "        elif i  not in \"aeiouAEIOU\":\n",
    "            lc+=i\n",
    "    elif i in '0'<=i<='9':\n",
    "        an+=i\n",
    "    else:\n",
    "        sp+=i\n",
    "print(uc)\n",
    "print(lc)\n",
    "print(sp)\n",
    "print(an)"
   ]
  },
  {
   "cell_type": "code",
   "execution_count": null,
   "metadata": {},
   "outputs": [],
   "source": [
    "\n",
    "#(*12hello3$4#world4*) o/p \"h4llwrld,)*#$$*('eoo,44321'"
   ]
  },
  {
   "cell_type": "code",
   "execution_count": null,
   "metadata": {},
   "outputs": [],
   "source": [
    "#(*12hello3$#world4*) o/p \"hllwrld,eoo,12344,(*$$#*)"
   ]
  }
 ],
 "metadata": {
  "kernelspec": {
   "display_name": "Python 3",
   "language": "python",
   "name": "python3"
  },
  "language_info": {
   "codemirror_mode": {
    "name": "ipython",
    "version": 3
   },
   "file_extension": ".py",
   "mimetype": "text/x-python",
   "name": "python",
   "nbconvert_exporter": "python",
   "pygments_lexer": "ipython3",
   "version": "3.11.6"
  },
  "orig_nbformat": 4
 },
 "nbformat": 4,
 "nbformat_minor": 2
}
